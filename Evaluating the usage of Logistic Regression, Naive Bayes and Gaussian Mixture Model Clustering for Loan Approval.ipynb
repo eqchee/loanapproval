{
 "cells": [
  {
   "cell_type": "markdown",
   "metadata": {},
   "source": [
    "### Data Pre-Processing"
   ]
  },
  {
   "cell_type": "code",
   "execution_count": 1,
   "metadata": {},
   "outputs": [],
   "source": [
    "import pandas as pd"
   ]
  },
  {
   "cell_type": "code",
   "execution_count": 2,
   "metadata": {},
   "outputs": [
    {
     "name": "stderr",
     "output_type": "stream",
     "text": [
      "C:\\Users\\Enqing\\Anaconda3\\lib\\site-packages\\IPython\\core\\interactiveshell.py:3058: DtypeWarning: Columns (0,19) have mixed types. Specify dtype option on import or set low_memory=False.\n",
      "  interactivity=interactivity, compiler=compiler, result=result)\n"
     ]
    }
   ],
   "source": [
    "loanStats = pd.read_csv('LoanStats_2016Q4.csv', skiprows = 1)\n",
    "rejectStats = pd.read_csv('RejectStats_2016Q4.csv', skiprows = 1)"
   ]
  },
  {
   "cell_type": "code",
   "execution_count": 3,
   "metadata": {},
   "outputs": [
    {
     "name": "stdout",
     "output_type": "stream",
     "text": [
      "(103548, 144)\n",
      "Index(['id', 'member_id', 'loan_amnt', 'funded_amnt', 'funded_amnt_inv',\n",
      "       'term', 'int_rate', 'installment', 'grade', 'sub_grade',\n",
      "       ...\n",
      "       'orig_projected_additional_accrued_interest',\n",
      "       'hardship_payoff_balance_amount', 'hardship_last_payment_amount',\n",
      "       'debt_settlement_flag', 'debt_settlement_flag_date',\n",
      "       'settlement_status', 'settlement_date', 'settlement_amount',\n",
      "       'settlement_percentage', 'settlement_term'],\n",
      "      dtype='object', length=144)\n"
     ]
    }
   ],
   "source": [
    "print(loanStats.shape)\n",
    "print(loanStats.columns)"
   ]
  },
  {
   "cell_type": "code",
   "execution_count": 4,
   "metadata": {},
   "outputs": [
    {
     "name": "stdout",
     "output_type": "stream",
     "text": [
      "(1404490, 9)\n",
      "Index(['Amount Requested', 'Application Date', 'Loan Title', 'Risk_Score',\n",
      "       'Debt-To-Income Ratio', 'Zip Code', 'State', 'Employment Length',\n",
      "       'Policy Code'],\n",
      "      dtype='object')\n"
     ]
    }
   ],
   "source": [
    "print(rejectStats.shape)\n",
    "print(rejectStats.columns)"
   ]
  },
  {
   "cell_type": "code",
   "execution_count": 5,
   "metadata": {},
   "outputs": [
    {
     "data": {
      "text/html": [
       "<div>\n",
       "<style scoped>\n",
       "    .dataframe tbody tr th:only-of-type {\n",
       "        vertical-align: middle;\n",
       "    }\n",
       "\n",
       "    .dataframe tbody tr th {\n",
       "        vertical-align: top;\n",
       "    }\n",
       "\n",
       "    .dataframe thead th {\n",
       "        text-align: right;\n",
       "    }\n",
       "</style>\n",
       "<table border=\"1\" class=\"dataframe\">\n",
       "  <thead>\n",
       "    <tr style=\"text-align: right;\">\n",
       "      <th></th>\n",
       "      <th>id</th>\n",
       "      <th>member_id</th>\n",
       "      <th>loan_amnt</th>\n",
       "      <th>funded_amnt</th>\n",
       "      <th>funded_amnt_inv</th>\n",
       "      <th>term</th>\n",
       "      <th>int_rate</th>\n",
       "      <th>installment</th>\n",
       "      <th>grade</th>\n",
       "      <th>sub_grade</th>\n",
       "      <th>...</th>\n",
       "      <th>orig_projected_additional_accrued_interest</th>\n",
       "      <th>hardship_payoff_balance_amount</th>\n",
       "      <th>hardship_last_payment_amount</th>\n",
       "      <th>debt_settlement_flag</th>\n",
       "      <th>debt_settlement_flag_date</th>\n",
       "      <th>settlement_status</th>\n",
       "      <th>settlement_date</th>\n",
       "      <th>settlement_amount</th>\n",
       "      <th>settlement_percentage</th>\n",
       "      <th>settlement_term</th>\n",
       "    </tr>\n",
       "  </thead>\n",
       "  <tbody>\n",
       "    <tr>\n",
       "      <td>103545</td>\n",
       "      <td>NaN</td>\n",
       "      <td>NaN</td>\n",
       "      <td>14000.0</td>\n",
       "      <td>14000.0</td>\n",
       "      <td>14000.0</td>\n",
       "      <td>60 months</td>\n",
       "      <td>14.49%</td>\n",
       "      <td>329.33</td>\n",
       "      <td>C</td>\n",
       "      <td>C4</td>\n",
       "      <td>...</td>\n",
       "      <td>NaN</td>\n",
       "      <td>NaN</td>\n",
       "      <td>NaN</td>\n",
       "      <td>N</td>\n",
       "      <td>NaN</td>\n",
       "      <td>NaN</td>\n",
       "      <td>NaN</td>\n",
       "      <td>NaN</td>\n",
       "      <td>NaN</td>\n",
       "      <td>NaN</td>\n",
       "    </tr>\n",
       "    <tr>\n",
       "      <td>103546</td>\n",
       "      <td>Total amount funded in policy code 1: 1465324575</td>\n",
       "      <td>NaN</td>\n",
       "      <td>NaN</td>\n",
       "      <td>NaN</td>\n",
       "      <td>NaN</td>\n",
       "      <td>NaN</td>\n",
       "      <td>NaN</td>\n",
       "      <td>NaN</td>\n",
       "      <td>NaN</td>\n",
       "      <td>NaN</td>\n",
       "      <td>...</td>\n",
       "      <td>NaN</td>\n",
       "      <td>NaN</td>\n",
       "      <td>NaN</td>\n",
       "      <td>NaN</td>\n",
       "      <td>NaN</td>\n",
       "      <td>NaN</td>\n",
       "      <td>NaN</td>\n",
       "      <td>NaN</td>\n",
       "      <td>NaN</td>\n",
       "      <td>NaN</td>\n",
       "    </tr>\n",
       "    <tr>\n",
       "      <td>103547</td>\n",
       "      <td>Total amount funded in policy code 2: 521953170</td>\n",
       "      <td>NaN</td>\n",
       "      <td>NaN</td>\n",
       "      <td>NaN</td>\n",
       "      <td>NaN</td>\n",
       "      <td>NaN</td>\n",
       "      <td>NaN</td>\n",
       "      <td>NaN</td>\n",
       "      <td>NaN</td>\n",
       "      <td>NaN</td>\n",
       "      <td>...</td>\n",
       "      <td>NaN</td>\n",
       "      <td>NaN</td>\n",
       "      <td>NaN</td>\n",
       "      <td>NaN</td>\n",
       "      <td>NaN</td>\n",
       "      <td>NaN</td>\n",
       "      <td>NaN</td>\n",
       "      <td>NaN</td>\n",
       "      <td>NaN</td>\n",
       "      <td>NaN</td>\n",
       "    </tr>\n",
       "  </tbody>\n",
       "</table>\n",
       "<p>3 rows × 144 columns</p>\n",
       "</div>"
      ],
      "text/plain": [
       "                                                      id  member_id  \\\n",
       "103545                                               NaN        NaN   \n",
       "103546  Total amount funded in policy code 1: 1465324575        NaN   \n",
       "103547   Total amount funded in policy code 2: 521953170        NaN   \n",
       "\n",
       "        loan_amnt  funded_amnt  funded_amnt_inv        term int_rate  \\\n",
       "103545    14000.0      14000.0          14000.0   60 months   14.49%   \n",
       "103546        NaN          NaN              NaN         NaN      NaN   \n",
       "103547        NaN          NaN              NaN         NaN      NaN   \n",
       "\n",
       "        installment grade sub_grade  ...  \\\n",
       "103545       329.33     C        C4  ...   \n",
       "103546          NaN   NaN       NaN  ...   \n",
       "103547          NaN   NaN       NaN  ...   \n",
       "\n",
       "       orig_projected_additional_accrued_interest  \\\n",
       "103545                                        NaN   \n",
       "103546                                        NaN   \n",
       "103547                                        NaN   \n",
       "\n",
       "       hardship_payoff_balance_amount hardship_last_payment_amount  \\\n",
       "103545                            NaN                          NaN   \n",
       "103546                            NaN                          NaN   \n",
       "103547                            NaN                          NaN   \n",
       "\n",
       "        debt_settlement_flag debt_settlement_flag_date settlement_status  \\\n",
       "103545                     N                       NaN               NaN   \n",
       "103546                   NaN                       NaN               NaN   \n",
       "103547                   NaN                       NaN               NaN   \n",
       "\n",
       "       settlement_date settlement_amount  settlement_percentage  \\\n",
       "103545             NaN               NaN                    NaN   \n",
       "103546             NaN               NaN                    NaN   \n",
       "103547             NaN               NaN                    NaN   \n",
       "\n",
       "       settlement_term  \n",
       "103545             NaN  \n",
       "103546             NaN  \n",
       "103547             NaN  \n",
       "\n",
       "[3 rows x 144 columns]"
      ]
     },
     "execution_count": 5,
     "metadata": {},
     "output_type": "execute_result"
    }
   ],
   "source": [
    "loanStats[-3:]"
   ]
  },
  {
   "cell_type": "markdown",
   "metadata": {},
   "source": [
    "Drop last two rows"
   ]
  },
  {
   "cell_type": "code",
   "execution_count": 6,
   "metadata": {},
   "outputs": [],
   "source": [
    "loanStats = loanStats.drop(loanStats.index[-2:])"
   ]
  },
  {
   "cell_type": "markdown",
   "metadata": {},
   "source": [
    "Drop first two columns since they are empty"
   ]
  },
  {
   "cell_type": "code",
   "execution_count": 7,
   "metadata": {},
   "outputs": [],
   "source": [
    "loanStats = loanStats.drop(['id', 'member_id'], axis = 1)"
   ]
  },
  {
   "cell_type": "code",
   "execution_count": 8,
   "metadata": {},
   "outputs": [
    {
     "name": "stdout",
     "output_type": "stream",
     "text": [
      "(103546, 142)\n",
      "Index(['loan_amnt', 'funded_amnt', 'funded_amnt_inv', 'term', 'int_rate',\n",
      "       'installment', 'grade', 'sub_grade', 'emp_title', 'emp_length',\n",
      "       ...\n",
      "       'orig_projected_additional_accrued_interest',\n",
      "       'hardship_payoff_balance_amount', 'hardship_last_payment_amount',\n",
      "       'debt_settlement_flag', 'debt_settlement_flag_date',\n",
      "       'settlement_status', 'settlement_date', 'settlement_amount',\n",
      "       'settlement_percentage', 'settlement_term'],\n",
      "      dtype='object', length=142)\n",
      "(1404490, 9)\n",
      "Index(['Amount Requested', 'Application Date', 'Loan Title', 'Risk_Score',\n",
      "       'Debt-To-Income Ratio', 'Zip Code', 'State', 'Employment Length',\n",
      "       'Policy Code'],\n",
      "      dtype='object')\n"
     ]
    }
   ],
   "source": [
    "print(loanStats.shape)\n",
    "print(loanStats.columns)\n",
    "print(rejectStats.shape)\n",
    "print(rejectStats.columns)"
   ]
  },
  {
   "cell_type": "code",
   "execution_count": 9,
   "metadata": {},
   "outputs": [
    {
     "name": "stdout",
     "output_type": "stream",
     "text": [
      "count    103546.000000\n",
      "mean      14151.435835\n",
      "std        9215.032376\n",
      "min        1000.000000\n",
      "25%        7000.000000\n",
      "50%       12000.000000\n",
      "75%       20000.000000\n",
      "max       40000.000000\n",
      "Name: loan_amnt, dtype: float64\n",
      "count    1.404490e+06\n",
      "mean     1.293313e+04\n",
      "std      1.567272e+04\n",
      "min      0.000000e+00\n",
      "25%      4.000000e+03\n",
      "50%      1.000000e+04\n",
      "75%      2.000000e+04\n",
      "max      3.000000e+05\n",
      "Name: Amount Requested, dtype: float64\n"
     ]
    }
   ],
   "source": [
    "print(loanStats['loan_amnt'].describe())\n",
    "print(rejectStats['Amount Requested'].describe())"
   ]
  },
  {
   "cell_type": "code",
   "execution_count": 10,
   "metadata": {},
   "outputs": [
    {
     "name": "stdout",
     "output_type": "stream",
     "text": [
      "Debt consolidation         59749\n",
      "Credit card refinancing    20528\n",
      "Home improvement            7393\n",
      "Other                       7383\n",
      "Major purchase              2470\n",
      "Medical expenses            1468\n",
      "Business                    1216\n",
      "Car financing               1162\n",
      "Vacation                     829\n",
      "Moving and relocation        772\n",
      "Home buying                  475\n",
      "Green loan                    97\n",
      "Name: title, dtype: int64\n",
      "debt_consolidation         359782\n",
      "Debt consolidation         324415\n",
      "other                      146389\n",
      "credit_card                 96179\n",
      "Other                       71882\n",
      "Credit card refinancing     67381\n",
      "home_improvement            44136\n",
      "Home improvement            31054\n",
      "car                         29480\n",
      "major_purchase              29301\n",
      "Car financing               22788\n",
      "moving                      20836\n",
      "medical                     20814\n",
      "Medical expenses            19315\n",
      "Business Loan               18575\n",
      "Moving and relocation       17616\n",
      "Major purchase              17505\n",
      "Business                    13845\n",
      "small_business              13410\n",
      "house                       11088\n",
      "vacation                     9842\n",
      "Vacation                     7392\n",
      "Home buying                  7300\n",
      "Green loan                   2075\n",
      "renewable_energy             2009\n",
      "Name: Loan Title, dtype: int64\n"
     ]
    }
   ],
   "source": [
    "print(loanStats['title'].value_counts())\n",
    "print(rejectStats['Loan Title'].value_counts())"
   ]
  },
  {
   "cell_type": "markdown",
   "metadata": {},
   "source": [
    "There are only 9 columns in reject data, let's try to match loan data with reject data:<br/>\n",
    "* 'loan_amnt' in loanStats should match with 'Amount Requested' in rejectStats.\n",
    "* 'issue_d' in loanStats is the issue date, it should be later than 'Application Date' in rejectStats, let's ignore this pair for now.\n",
    "* 'title' in loanStats should match with 'Loan Title' in rejectStats. However, we need to deal with upper/lower case and space/underscore issues.\n",
    "* There is no column in loanStats matches with 'Risk_Score' in rejectStats, would be very useful if there was one.\n",
    "* 'dti' in loanStats matches with 'Debt-To-Income Ratio' in rejectStats.\n",
    "* 'zip_code' and 'addr_state' in loanStats match with 'Zip Code' and 'State' in rejectStats respectively. Zip codes are only available in first 3 digits, and we might need to get external data for the demographics about the zip code.\n",
    "* 'emp_length' in loanStats matches with 'Employment Length' in rejectStats.\n",
    "* 'policy_code' in loanStats matches with 'Policy Code' in rejectStats."
   ]
  },
  {
   "cell_type": "code",
   "execution_count": 11,
   "metadata": {},
   "outputs": [
    {
     "name": "stdout",
     "output_type": "stream",
     "text": [
      "10+ years    35981\n",
      "2 years       9652\n",
      "3 years       8244\n",
      "< 1 year      7591\n",
      "1 year        6707\n",
      "5 years       6292\n",
      "4 years       6249\n",
      "6 years       4786\n",
      "8 years       3951\n",
      "9 years       3870\n",
      "7 years       3346\n",
      "Name: emp_length, dtype: int64\n",
      "< 1 year     1022412\n",
      "5 years       274322\n",
      "10+ years      16782\n",
      "2 years         5248\n",
      "3 years         4502\n",
      "1 year          4389\n",
      "4 years         3314\n",
      "6 years         2494\n",
      "8 years         1953\n",
      "7 years         1918\n",
      "9 years         1586\n",
      "Name: Employment Length, dtype: int64\n"
     ]
    }
   ],
   "source": [
    "print(loanStats['emp_length'].value_counts())\n",
    "print(rejectStats['Employment Length'].value_counts())"
   ]
  },
  {
   "cell_type": "code",
   "execution_count": 12,
   "metadata": {},
   "outputs": [
    {
     "name": "stdout",
     "output_type": "stream",
     "text": [
      "1.0    103546\n",
      "Name: policy_code, dtype: int64\n",
      "0    1403661\n",
      "2        829\n",
      "Name: Policy Code, dtype: int64\n"
     ]
    }
   ],
   "source": [
    "print(loanStats['policy_code'].value_counts())\n",
    "print(rejectStats['Policy Code'].value_counts())"
   ]
  },
  {
   "cell_type": "markdown",
   "metadata": {},
   "source": [
    "However, policy code is useless since it carries different meaning in the two datasets, so we should ignore this pair of columns.<br/>\n",
    "Let's now build two new dataframes, and keep their columns consistent."
   ]
  },
  {
   "cell_type": "code",
   "execution_count": 13,
   "metadata": {},
   "outputs": [],
   "source": [
    "approved = pd.DataFrame()\n",
    "rejected = pd.DataFrame()"
   ]
  },
  {
   "cell_type": "markdown",
   "metadata": {},
   "source": [
    "Copy values from 'loan_amnt' and 'Amount Requested' directly to the new dataframes"
   ]
  },
  {
   "cell_type": "code",
   "execution_count": 14,
   "metadata": {},
   "outputs": [],
   "source": [
    "approved['amount'] = loanStats['loan_amnt']\n",
    "rejected['amount'] = rejectStats['Amount Requested']"
   ]
  },
  {
   "cell_type": "markdown",
   "metadata": {},
   "source": [
    "Using lambda functions to convert strings, first make all characters lower cases, and split them by space, then join them using '\\_'. While joining, remove words like 'and', 'expenses', 'financing', 'loan', 'refinancing', as these words are not important in reasons for loans. To further consolidate the reasons, we merge 'housing' to 'home\\_buying', 'moving' to 'moving\\_relocation', 'renewable\\_energy' to 'green', and 'small\\_business' to 'business'."
   ]
  },
  {
   "cell_type": "code",
   "execution_count": 15,
   "metadata": {},
   "outputs": [],
   "source": [
    "stop_words = ['and', 'expenses', 'financing', 'loan', 'refinancing']\n",
    "approved['reason'] = loanStats['title'].apply(lambda x: 'other' if type(x) != str else '_'.join([i for i in x.lower().split() if i not in stop_words]))\n",
    "rejected['reason'] = rejectStats['Loan Title'].apply(lambda x: 'other' if type(x) != str else '_'.join([i for i in x.lower().split() if i not in stop_words]))\n",
    "convert = {'house': 'home_buying', 'moving': 'moving_relocation', 'renewable_energy': 'green', 'small_business': 'business'}\n",
    "rejected['reason'] = rejected['reason'].apply(lambda x: convert[x] if x in convert else x)"
   ]
  },
  {
   "cell_type": "markdown",
   "metadata": {},
   "source": [
    "Copy values from 'dti' and 'Debt-To-Income Ratio', however, to identify Not-a-Number floats, we test x == x, in it's a NaN, we set it to the maximum in the dataset."
   ]
  },
  {
   "cell_type": "code",
   "execution_count": 16,
   "metadata": {},
   "outputs": [],
   "source": [
    "approved['debt_to_income'] = loanStats['dti'].apply(lambda x: max(0.0, min(x / 100, 1.0)) if x == x else 1.0)\n",
    "rejected['debt_to_income'] = rejectStats['Debt-To-Income Ratio'].apply(lambda x: max(0.0, min(float(x[:-1]) / 100, 1.0)))"
   ]
  },
  {
   "cell_type": "markdown",
   "metadata": {},
   "source": [
    "Keep the first 3 digits of the zip codes since the last 2 digits are masked, however, it is unnecessary to convert them to numbers."
   ]
  },
  {
   "cell_type": "code",
   "execution_count": 17,
   "metadata": {},
   "outputs": [],
   "source": [
    "approved['zip3'] = loanStats['zip_code'].apply(lambda x: x[:3] if type(x) == str else 'N/A')\n",
    "rejected['zip3'] = rejectStats['Zip Code'].apply(lambda x: x[:3] if type(x) == str else 'N/A')\n",
    "approved['state'] = loanStats['addr_state']\n",
    "rejected['state'] = rejectStats['State']"
   ]
  },
  {
   "cell_type": "markdown",
   "metadata": {},
   "source": [
    "Convert the employment length to numerical values, if it is not specified, or less than a year, we take them as 0."
   ]
  },
  {
   "cell_type": "code",
   "execution_count": 18,
   "metadata": {},
   "outputs": [],
   "source": [
    "approved['employ_length'] = loanStats['emp_length'].apply(lambda x: 0 if type(x) != str or x[:3] == '< 1' else int(x[:2]))\n",
    "rejected['employ_length'] = rejectStats['Employment Length'].apply(lambda x: 0 if type(x) != str or x[:3] == '< 1' else int(x[:2]))"
   ]
  },
  {
   "cell_type": "markdown",
   "metadata": {},
   "source": [
    "The column 'reason' is now the only nominal column, we may use function get\\_dummies, drop 'other' is recommended since 'reason\\_=\\_other' is fuzzy, and should be expressed by 0 in all other reason columns."
   ]
  },
  {
   "cell_type": "code",
   "execution_count": 19,
   "metadata": {},
   "outputs": [],
   "source": [
    "approved = pd.concat([approved, pd.get_dummies(approved['reason'], prefix = 'reason', prefix_sep = '_=_').drop('reason_=_other', axis = 1)], axis = 1).drop('reason', axis = 1)\n",
    "rejected = pd.concat([rejected, pd.get_dummies(rejected['reason'], prefix = 'reason', prefix_sep = '_=_').drop('reason_=_other', axis = 1)], axis = 1).drop('reason', axis = 1)"
   ]
  },
  {
   "cell_type": "markdown",
   "metadata": {},
   "source": [
    "Add the response column to the two dataframes."
   ]
  },
  {
   "cell_type": "code",
   "execution_count": 20,
   "metadata": {},
   "outputs": [],
   "source": [
    "approved['approved'] = 1\n",
    "rejected['approved'] = 0"
   ]
  },
  {
   "cell_type": "markdown",
   "metadata": {},
   "source": [
    "Convert the two dataframes to numpy arrays."
   ]
  },
  {
   "cell_type": "code",
   "execution_count": 21,
   "metadata": {},
   "outputs": [],
   "source": [
    "data_pos = approved.drop(['zip3', 'state'], axis = 1).values\n",
    "data_neg = rejected.drop(['zip3', 'state'], axis = 1).values"
   ]
  },
  {
   "cell_type": "code",
   "execution_count": 22,
   "metadata": {},
   "outputs": [
    {
     "name": "stdout",
     "output_type": "stream",
     "text": [
      "(103546, 15)\n",
      "(1404490, 15)\n"
     ]
    }
   ],
   "source": [
    "print(data_pos.shape)\n",
    "print(data_neg.shape)"
   ]
  },
  {
   "cell_type": "markdown",
   "metadata": {},
   "source": [
    "#### Imbalanced Dataset\n",
    "\n",
    "From the values shown above, it can be seen that the dataset is imbalanced, where only about 6.87% of the data are in the positive class. "
   ]
  },
  {
   "cell_type": "markdown",
   "metadata": {},
   "source": [
    "### Build Logistic Regression Models and Naive Bayes Models"
   ]
  },
  {
   "cell_type": "markdown",
   "metadata": {},
   "source": [
    "#### Split and Scale Data"
   ]
  },
  {
   "cell_type": "code",
   "execution_count": 23,
   "metadata": {},
   "outputs": [],
   "source": [
    "from sklearn.model_selection import train_test_split\n",
    "from sklearn.preprocessing import MinMaxScaler\n",
    "\n",
    "#combine both approved and rejected data\n",
    "data = np.concatenate((data_pos, data_neg), axis=0)\n",
    "\n",
    "#split dataset into train and test set\n",
    "X_train, X_test, y_train, y_test = train_test_split(data[:,:-1], data[:,-1], stratify=data[:,-1], random_state=88)\n",
    "\n",
    "# scale loan amount and employment length\n",
    "mms = MinMaxScaler()\n",
    "X_train[:,[0,2]] = mms.fit_transform(X_train[:,[0,2]])\n",
    "X_test[:,[0,2]] = mms.transform(X_test[:,[0,2]])"
   ]
  },
  {
   "cell_type": "markdown",
   "metadata": {},
   "source": [
    "#### Selecting parameter C for Logistic Regression Classifier\n",
    "\n",
    "To select a suitable parameter C value for Logistic Regression model, the change in training and test error is visualised with the change in parameter C. "
   ]
  },
  {
   "cell_type": "code",
   "execution_count": 24,
   "metadata": {},
   "outputs": [],
   "source": [
    "from sklearn.linear_model import LogisticRegression\n",
    "from sklearn.metrics import log_loss\n",
    "import matplotlib.pyplot as plt\n",
    "\n",
    "num_C = 10\n",
    "C = [1.0] * num_C\n",
    "for i in range(num_C):\n",
    "    C[i] = pow(10, i - 6)    \n",
    "# to store inverse log likelihood per sample\n",
    "logloss_train = [0] * num_C\n",
    "logloss_test = [0] * num_C\n",
    "\n",
    "# compute inverse log likelihood per sample for each C value\n",
    "for i in range(num_C):\n",
    "    logregr = LogisticRegression(C=C[i])\n",
    "    logregr.fit(X_train, y_train)\n",
    "    \n",
    "    # compute log-loss on training data \n",
    "    log_proba_train = logregr.predict_proba(X_train)\n",
    "    logloss_train[i] = log_loss(y_train,log_proba_train)\n",
    "        \n",
    "    # compute log-loss on test data \n",
    "    log_proba_test = logregr.predict_proba(X_test) \n",
    "    logloss_test[i] = log_loss(y_test,log_proba_test)\n"
   ]
  },
  {
   "cell_type": "code",
   "execution_count": 25,
   "metadata": {},
   "outputs": [
    {
     "data": {
      "image/png": "[encoded data removed]",
      "text/plain": [
       "<Figure size 864x576 with 1 Axes>"
      ]
     },
     "metadata": {
      "needs_background": "light"
     },
     "output_type": "display_data"
    }
   ],
   "source": [
    "plt.figure(figsize = (12, 8))\n",
    "plt.xscale('log')\n",
    "plt.plot(C, logloss_train, 'bo-', C, logloss_test, 'ro-')\n",
    "plt.show()"
   ]
  },
  {
   "attachments": {
    "image.png": {
     "image/png": "[encoded data removed]"
    }
   },
   "cell_type": "markdown",
   "metadata": {},
   "source": [
    "Based on the plot above, we would choose C=0.001 as the log-loss for both training and test are low and the difference in log loss between the training and test is minimal which would be an indication of appropriate fit. \n",
    "\n",
    "#### Decision Threshold:\n",
    "\n",
    "Conventionally, decision threshold is selected to be 0.5 by default. However, threshold-moving will be performed to account for the imbalanced data by chosing the decision threshold where F-beta score is maximised.\n",
    "\n",
    "#### Choice of beta value:\n",
    "\n",
    "In this problem, positive class would represent the loans which have been approved. For loans, it would be better to minimise false positives to reduce risk of default and thus cost impact to the lending club. As such, precision would be important as the cost of false positive is high. \n",
    "\n",
    "![image.png](attachment:image.png)"
   ]
  },
  {
   "attachments": {
    "image.png": {
     "image/png": "[encoded data removed]"
    }
   },
   "cell_type": "markdown",
   "metadata": {},
   "source": [
    "F-beta allows a balance between precision and recall. \n",
    "![image.png](attachment:image.png)\n",
    "\n",
    "Since precision is more critical for this problem, a beta value of 0.5 is selected to give higher weightage to precision, thus focusing more on minimising false positives than minimising false negatives.  \n",
    "\n",
    "#### Develop Logistic Regression Classifier"
   ]
  },
  {
   "cell_type": "code",
   "execution_count": 26,
   "metadata": {},
   "outputs": [
    {
     "name": "stdout",
     "output_type": "stream",
     "text": [
      "--------------------------------------------------\n",
      "LogisticRegression(C=0.001)\n",
      "--------------------------------------------------\n",
      "Select threshold of 0.2 to maximise F-beta score\n",
      "Precision: 0.68\n",
      "Recall: 0.48\n",
      "Chosen beta: 0.5\n",
      "F-beta: 0.63\n",
      "AUC under ROC: 0.73\n",
      "\n"
     ]
    },
    {
     "data": {
      "image/png": "[encoded data removed]",
      "text/plain": [
       "<Figure size 432x288 with 1 Axes>"
      ]
     },
     "metadata": {
      "needs_background": "light"
     },
     "output_type": "display_data"
    }
   ],
   "source": [
    "# develop Logistic Regression Model\n",
    "\n",
    "from sklearn.metrics import precision_score, recall_score, fbeta_score, roc_auc_score\n",
    "\n",
    "# create list of possible threshold values\n",
    "threshold = [round(0.01*i,2) for i in range(1,100)]\n",
    "\n",
    "# choose beta = 0.5 so as to give higher weightage to precision\n",
    "beta = 0.5\n",
    "\n",
    "model = LogisticRegression(C=0.001)\n",
    "\n",
    "# fit and predict probability \n",
    "model.fit(X_train,y_train)\n",
    "y_pred_proba = model.predict_proba(X_test)\n",
    "\n",
    "# compute F-beta score as threshold varies\n",
    "fbeta = []\n",
    "for i in threshold:\n",
    "    y_pred = np.where(y_pred_proba[:,1]>i, 1, 0)\n",
    "    score = fbeta_score(y_test,y_pred,beta=beta)\n",
    "    if i==threshold[0]:\n",
    "        thresholdSelected = i\n",
    "    elif score>max(fbeta):\n",
    "        thresholdSelected = i\n",
    "    fbeta.append(score)\n",
    "# plot change in F-beta score as threshold varies\n",
    "plt.plot(threshold,fbeta, label=model)\n",
    "plt.ylabel('F-Beta Score')\n",
    "plt.xlabel('Threshold')\n",
    "plt.legend(loc=\"lower left\")\n",
    "# compute predicted classes base on selected threshold\n",
    "y_pred = np.where(y_pred_proba[:,1]>thresholdSelected, 1, 0)\n",
    "\n",
    "# print results\n",
    "print(\"-\"*50)\n",
    "print(f\"{model}\")\n",
    "print(\"-\"*50)\n",
    "print(f\"Select threshold of {thresholdSelected} to maximise F-beta score\")\n",
    "# compute scores for threshold selected\n",
    "print(f\"Precision: {precision_score(y_test,y_pred):.2f}\")\n",
    "print(f\"Recall: {recall_score(y_test,y_pred):.2f}\")\n",
    "print(f\"Chosen beta: {beta}\")\n",
    "print(f\"F-beta: {fbeta_score(y_test,y_pred,beta=beta):.2f}\")\n",
    "print(f\"AUC under ROC: {roc_auc_score(y_test,y_pred):.2f}\\n\")"
   ]
  },
  {
   "cell_type": "markdown",
   "metadata": {},
   "source": [
    "#### Develop Naive Bayes Classifier\n",
    "\n",
    "As the data has both continuous and discrete data, a Gaussian Naive Bayes model would be fitted on the continuous features to generate a probability for each class. For binary features, a Bernoulli Naive Bayes model is used to generate a probability for each class. Since features are assumed to be independent in Naive Bayes model, we would use another Gaussian Naive Bayes model to fit on the predicted probabilities from the above 2 models to compute the overall probabilities for each class. "
   ]
  },
  {
   "cell_type": "code",
   "execution_count": 27,
   "metadata": {},
   "outputs": [
    {
     "name": "stdout",
     "output_type": "stream",
     "text": [
      "--------------------------------------------------\n",
      "Naive Bayes\n",
      "--------------------------------------------------\n",
      "Select threshold of 0.66 to maximise F-beta score\n",
      "Precision: 0.68\n",
      "Recall: 0.48\n",
      "Chosen beta: 0.5\n",
      "F-beta: 0.63\n",
      "AUC under ROC: 0.73\n",
      "\n"
     ]
    },
    {
     "data": {
      "image/png": "[encoded data removed]",
      "text/plain": [
       "<Figure size 432x288 with 1 Axes>"
      ]
     },
     "metadata": {
      "needs_background": "light"
     },
     "output_type": "display_data"
    }
   ],
   "source": [
    "# develop Naive Bayes Model\n",
    "\n",
    "from sklearn.naive_bayes import GaussianNB, BernoulliNB\n",
    "\n",
    "# Use GaussianNB for continuous features\n",
    "gnb = GaussianNB()\n",
    "gnb.fit(X_train[:,:3], y_train)\n",
    "y_pred_proba_gnb_train = gnb.predict_proba(X_train[:,:3])\n",
    "\n",
    "# Use BernoulliNB for binary features\n",
    "bnb = BernoulliNB()\n",
    "bnb.fit(X_train[:,3:], y_train)\n",
    "y_pred_proba_bnb_train = bnb.predict_proba(X_train[:,3:])\n",
    "\n",
    "# Use GaussianNB to predict from the output of both gnb and bnb\n",
    "comb = GaussianNB()\n",
    "# drop first column from each predict_proba output as both columns will be perfectly collinear\n",
    "y_pred_proba_train = np.hstack((y_pred_proba_gnb_train[:,1].reshape(-1,1), y_pred_proba_bnb_train[:,1].reshape(-1,1)))\n",
    "comb.fit(y_pred_proba_train, y_train)\n",
    "\n",
    "y_pred_proba_gnb_test = gnb.predict_proba(X_test[:,:3])\n",
    "y_pred_proba_bnb_test = bnb.predict_proba(X_test[:,3:])\n",
    "y_pred_proba_test = np.hstack((y_pred_proba_gnb_test[:,1].reshape(-1,1), y_pred_proba_bnb_test[:,1].reshape(-1,1)))\n",
    "y_pred_proba = comb.predict_proba(y_pred_proba_test)                             \n",
    "\n",
    "# compute F-beta score as threshold varies\n",
    "fbeta = []\n",
    "for i in threshold:\n",
    "    y_pred = np.where(y_pred_proba[:,1]>i, 1, 0)\n",
    "    score = fbeta_score(y_test,y_pred,beta=beta)\n",
    "    if i==threshold[0]:\n",
    "        thresholdSelected = i\n",
    "    elif score>max(fbeta):\n",
    "        thresholdSelected = i\n",
    "    fbeta.append(score)\n",
    "# plot change in F-beta score as threshold varies\n",
    "plt.plot(threshold,fbeta, label=\"Naive Bayes\")\n",
    "plt.ylabel('F-Beta Score')\n",
    "plt.xlabel('Threshold')\n",
    "plt.legend(loc=\"lower right\")\n",
    "# compute predicted classes base on selected threshold\n",
    "y_pred = np.where(y_pred_proba[:,1]>thresholdSelected, 1, 0)\n",
    "\n",
    "# print results\n",
    "print(\"-\"*50)\n",
    "print(f\"Naive Bayes\")\n",
    "print(\"-\"*50)\n",
    "print(f\"Select threshold of {thresholdSelected} to maximise F-beta score\")\n",
    "# compute scores for threshold selected\n",
    "print(f\"Precision: {precision_score(y_test,y_pred):.2f}\")\n",
    "print(f\"Recall: {recall_score(y_test,y_pred):.2f}\")\n",
    "print(f\"Chosen beta: {beta}\")\n",
    "print(f\"F-beta: {fbeta_score(y_test,y_pred,beta=beta):.2f}\")\n",
    "print(f\"AUC under ROC: {roc_auc_score(y_test,y_pred):.2f}\\n\")"
   ]
  },
  {
   "cell_type": "markdown",
   "metadata": {},
   "source": [
    "#### Comparison of Logistic Regression and Naive Bayes Classifiers\n",
    "\n",
    "Logistic Regression is a discriminative model where the conditional probability of the target given the features are estimated directly from the data.\n",
    "\n",
    "Naive Bayes model is a generative model where joint distribution is first estimated from the data and conditional probability of the target given the features is computed subsequently.\n",
    "\n",
    "Despite both models using different approaches in making classification, Logistic Regression and Naive Bayes classifiers are able to achieve comparable results. This is also due to the optimising of decision threshold for each model to account for the imbalanced data in this problem. "
   ]
  },
  {
   "cell_type": "markdown",
   "metadata": {},
   "source": [
    "### Build Classification Models over GMM"
   ]
  },
  {
   "cell_type": "code",
   "execution_count": 28,
   "metadata": {
    "scrolled": false
   },
   "outputs": [
    {
     "name": "stdout",
     "output_type": "stream",
     "text": [
      "--------------------------------------------------\n",
      "LogisticRegression(C=0.001) with 5 clusters\n",
      "--------------------------------------------------\n",
      "Select threshold of 0.3 to maximise F-beta score\n",
      "Precision: 0.71\n",
      "Recall: 0.36\n",
      "Chosen beta: 0.5\n",
      "F-beta: 0.59\n",
      "AUC under ROC: 0.67\n",
      "\n",
      "--------------------------------------------------\n",
      "Naive Bayes with 5 clusters\n",
      "--------------------------------------------------\n",
      "Select threshold of 0.24 to maximise F-beta score\n",
      "Precision: 0.68\n",
      "Recall: 0.55\n",
      "Chosen beta: 0.5\n",
      "F-beta: 0.65\n",
      "AUC under ROC: 0.77\n",
      "\n",
      "--------------------------------------------------\n",
      "LogisticRegression(C=0.001) with 10 clusters\n",
      "--------------------------------------------------\n",
      "Select threshold of 0.3 to maximise F-beta score\n",
      "Precision: 0.71\n",
      "Recall: 0.36\n",
      "Chosen beta: 0.5\n",
      "F-beta: 0.59\n",
      "AUC under ROC: 0.67\n",
      "\n",
      "--------------------------------------------------\n",
      "Naive Bayes with 10 clusters\n",
      "--------------------------------------------------\n",
      "Select threshold of 0.24 to maximise F-beta score\n",
      "Precision: 0.67\n",
      "Recall: 0.55\n",
      "Chosen beta: 0.5\n",
      "F-beta: 0.64\n",
      "AUC under ROC: 0.77\n",
      "\n",
      "--------------------------------------------------\n",
      "LogisticRegression(C=0.001) with 20 clusters\n",
      "--------------------------------------------------\n",
      "Select threshold of 0.24 to maximise F-beta score\n",
      "Precision: 0.60\n",
      "Recall: 0.51\n",
      "Chosen beta: 0.5\n",
      "F-beta: 0.58\n",
      "AUC under ROC: 0.74\n",
      "\n",
      "--------------------------------------------------\n",
      "Naive Bayes with 20 clusters\n",
      "--------------------------------------------------\n",
      "Select threshold of 0.16 to maximise F-beta score\n",
      "Precision: 0.67\n",
      "Recall: 0.64\n",
      "Chosen beta: 0.5\n",
      "F-beta: 0.67\n",
      "AUC under ROC: 0.81\n",
      "\n"
     ]
    },
    {
     "data": {
      "image/png": "[encoded data removed]",
      "text/plain": [
       "<Figure size 504x288 with 1 Axes>"
      ]
     },
     "metadata": {
      "needs_background": "light"
     },
     "output_type": "display_data"
    },
    {
     "data": {
      "image/png": "[encoded data removed]",
      "text/plain": [
       "<Figure size 504x288 with 1 Axes>"
      ]
     },
     "metadata": {
      "needs_background": "light"
     },
     "output_type": "display_data"
    },
    {
     "data": {
      "image/png": "[encoded data removed]",
      "text/plain": [
       "<Figure size 504x288 with 1 Axes>"
      ]
     },
     "metadata": {
      "needs_background": "light"
     },
     "output_type": "display_data"
    },
    {
     "data": {
      "image/png": "[encoded data removed]",
      "text/plain": [
       "<Figure size 504x288 with 1 Axes>"
      ]
     },
     "metadata": {
      "needs_background": "light"
     },
     "output_type": "display_data"
    },
    {
     "data": {
      "image/png": "[encoded data removed]",
      "text/plain": [
       "<Figure size 504x288 with 1 Axes>"
      ]
     },
     "metadata": {
      "needs_background": "light"
     },
     "output_type": "display_data"
    },
    {
     "data": {
      "image/png": "[encoded data removed]",
      "text/plain": [
       "<Figure size 504x288 with 1 Axes>"
      ]
     },
     "metadata": {
      "needs_background": "light"
     },
     "output_type": "display_data"
    }
   ],
   "source": [
    "from sklearn.mixture import GaussianMixture\n",
    "\n",
    "# create list of cluster models\n",
    "clusters = [5,10,20]\n",
    "gmm = [GaussianMixture(n_components=i) for i in clusters]\n",
    "\n",
    "# perform clustering on data\n",
    "for i in range(len(clusters)):\n",
    "    gmm[i].fit(X_train)\n",
    "    y_train_pred = gmm[i].predict_proba(X_train)\n",
    "    y_test_pred = gmm[i].predict_proba(X_test)\n",
    "    \n",
    "    # threshold to select training data for each cluster\n",
    "    avg = 1/clusters[i]\n",
    "    \n",
    "    #add cluster probability to features\n",
    "    X_train_cl = np.column_stack((X_train,y_train_pred))\n",
    "    X_test_cl = np.column_stack((X_test,y_test_pred))\n",
    "    \n",
    "    #to store predicted probability of class for each cluster\n",
    "    y_pred_compiled = []\n",
    "    \n",
    "    #train logistic regression model for each cluster\n",
    "    for j in range(clusters[i],0,-1):\n",
    "        # select samples which have above average probability of being in specified cluster\n",
    "        X_train_temp_cl = X_train_cl[np.where(X_train_cl[:,-j]>avg)][:,:-clusters[i]]\n",
    "        y_train_temp_cl = y_train[np.where(X_train_cl[:,-j]>avg)]\n",
    "        # train logistic regression model on selected samples for specified cluster\n",
    "        model = LogisticRegression(C=0.001)\n",
    "        model.fit(X_train_temp_cl,y_train_temp_cl)\n",
    "        # use model to predict class probability on test set as if clustered to specified cluster\n",
    "        y_pred_temp_clu = model.predict_proba(X_test)\n",
    "        y_pred_compiled.append(list(y_pred_temp_clu[:,1]))\n",
    "    #sum up the multiplication of class probability distribution and posterior probability distribution over all clusters    \n",
    "    y_pred_compiled = np.transpose(np.array(y_pred_compiled))\n",
    "    y_pred_proba = np.sum(np.multiply(y_test_pred,y_pred_compiled),axis=1)\n",
    "    \n",
    "    # compute F-beta score as threshold varies\n",
    "    fbeta = []\n",
    "    for k in threshold:\n",
    "        y_pred = np.where(y_pred_proba>k, 1, 0)\n",
    "        score = fbeta_score(y_test,y_pred,beta=beta)\n",
    "        if k==threshold[0]:\n",
    "            thresholdSelected = k\n",
    "        elif score>max(fbeta):\n",
    "            thresholdSelected = k\n",
    "        fbeta.append(score)\n",
    "    plt.figure(figsize = (7, 4))\n",
    "    plt.plot(threshold,fbeta, label=f\"{model} with {clusters[i]} clusters\")\n",
    "    plt.ylabel('F-Beta Score')\n",
    "    plt.xlabel('Threshold')\n",
    "    plt.legend(loc=\"lower left\")\n",
    "    y_pred = np.where(y_pred_proba>thresholdSelected, 1, 0)\n",
    "\n",
    "    # print results\n",
    "    print(\"-\"*50)\n",
    "    print(f\"{model} with {clusters[i]} clusters\")\n",
    "    print(\"-\"*50)\n",
    "    print(f\"Select threshold of {thresholdSelected} to maximise F-beta score\")\n",
    "    # compute scores for threshold selected\n",
    "    print(f\"Precision: {precision_score(y_test,y_pred):.2f}\")\n",
    "    print(f\"Recall: {recall_score(y_test,y_pred):.2f}\")\n",
    "    print(f\"Chosen beta: {beta}\")\n",
    "    print(f\"F-beta: {fbeta_score(y_test,y_pred,beta=beta):.2f}\")\n",
    "    print(f\"AUC under ROC: {roc_auc_score(y_test,y_pred):.2f}\\n\")\n",
    "    \n",
    "    \n",
    "    \n",
    "    #to store predicted probability of class for each cluster\n",
    "    y_pred_compiled = []\n",
    "    \n",
    "    #train Naive Bayes model for each cluster\n",
    "    for j in range(clusters[i],0,-1):\n",
    "        # select samples which have above average probability of being in specified cluster\n",
    "        X_train_temp_cl = X_train_cl[np.where(X_train_cl[:,-j]>avg)][:,:-clusters[i]]\n",
    "        y_train_temp_cl = y_train[np.where(X_train_cl[:,-j]>avg)]\n",
    "\n",
    "        # Use GaussianNB for continuous features\n",
    "        gnb = GaussianNB()\n",
    "        gnb.fit(X_train_temp_cl[:,:3], y_train_temp_cl)\n",
    "        y_pred_proba_gnb_train = gnb.predict_proba(X_train_temp_cl[:,:3])\n",
    "\n",
    "        # Use BernoulliNB for binary features\n",
    "        bnb = BernoulliNB()\n",
    "        bnb.fit(X_train_temp_cl[:,3:], y_train_temp_cl)\n",
    "        y_pred_proba_bnb_train = bnb.predict_proba(X_train_temp_cl[:,3:])\n",
    "\n",
    "        # Use GaussianNB to predict from the output of both gnb and bnb\n",
    "        comb = GaussianNB()\n",
    "        # drop first column from each predict_proba output as both columns will be perfectly collinear\n",
    "        y_pred_proba_train = np.hstack((y_pred_proba_gnb_train[:,1].reshape(-1,1), y_pred_proba_bnb_train[:,1].reshape(-1,1)))\n",
    "        comb.fit(y_pred_proba_train, y_train_temp_cl)\n",
    "\n",
    "        y_pred_proba_gnb_test = gnb.predict_proba(X_test[:,:3])\n",
    "        y_pred_proba_bnb_test = bnb.predict_proba(X_test[:,3:])\n",
    "        y_pred_proba_test = np.hstack((y_pred_proba_gnb_test[:,1].reshape(-1,1), y_pred_proba_bnb_test[:,1].reshape(-1,1)))\n",
    "\n",
    "        # use model to predict class probability on test set as if clustered to specified cluster\n",
    "        y_pred_temp_clu = comb.predict_proba(y_pred_proba_test)  \n",
    "        y_pred_compiled.append(list(y_pred_temp_clu[:,1]))\n",
    "    \n",
    "    #sum up the multiplication of class probability distribution and posterior probability distribution over all clusters    \n",
    "    y_pred_compiled = np.transpose(np.array(y_pred_compiled))\n",
    "    y_pred_proba = np.sum(np.multiply(y_test_pred,y_pred_compiled),axis=1)\n",
    "\n",
    "    # compute F-beta score as threshold varies\n",
    "    fbeta = []\n",
    "    for k in threshold:\n",
    "        y_pred = np.where(y_pred_proba>k, 1, 0)\n",
    "        score = fbeta_score(y_test,y_pred,beta=beta)\n",
    "        if k==threshold[0]:\n",
    "            thresholdSelected = k\n",
    "        elif score>max(fbeta):\n",
    "            thresholdSelected = k\n",
    "        fbeta.append(score)\n",
    "    plt.figure(figsize = (7, 4))\n",
    "    plt.plot(threshold,fbeta, label=f\"Naive Bayes with {clusters[i]} clusters\")\n",
    "    plt.ylabel('F-Beta Score')\n",
    "    plt.xlabel('Threshold')\n",
    "    plt.legend(loc=\"lower left\")\n",
    "    y_pred = np.where(y_pred_proba>thresholdSelected, 1, 0)\n",
    "\n",
    "    # print results\n",
    "    print(\"-\"*50)\n",
    "    print(f\"Naive Bayes with {clusters[i]} clusters\")\n",
    "    print(\"-\"*50)\n",
    "    print(f\"Select threshold of {thresholdSelected} to maximise F-beta score\")\n",
    "    # compute scores for threshold selected\n",
    "    print(f\"Precision: {precision_score(y_test,y_pred):.2f}\")\n",
    "    print(f\"Recall: {recall_score(y_test,y_pred):.2f}\")\n",
    "    print(f\"Chosen beta: {beta}\")\n",
    "    print(f\"F-beta: {fbeta_score(y_test,y_pred,beta=beta):.2f}\")\n",
    "    print(f\"AUC under ROC: {roc_auc_score(y_test,y_pred):.2f}\\n\")\n",
    "    "
   ]
  },
  {
   "cell_type": "markdown",
   "metadata": {},
   "source": [
    "#### Evaluation of Clustering before applying Logistic Regression \n",
    "\n",
    "For Logistic Regression model, the F-beta score decreased regardless of the number of clusters as compared to without clustering in Question 1. Even though the precision increased when there were 5 or 10 clusters, the recall decreased which reduced the F-beta score. The AUC under ROC decreased for 5 and 10 clusters while it was comparable for 20 clusters when compared to without clustering. Overall, there is no significant improvement in results for Logistic Regression when clustering is performed first.  \n",
    "\n",
    "When clustering is performed, samples are grouped together according to their similarities. This facilitates knowledge discovery, where patterns in data can be discovered. As Logistic Regression is a discriminative model, where the conditional probability of the target given the features are estimated directly from the data, the patterns could have been discovered by the Logistic Regression classifier and the information gained from clustering did not add significant value.   \n",
    "\n",
    "#### Evaluation of Clustering before applying Naive Bayes Classifiers\n",
    "For Naive Bayes model, the F-beta score and AUC under ROC increased when clustering was performed first as compared to without clustering in Question 1. In fact, the results from the 20 cluster model showed the most improvement, with F-beta score increasing from 0.63 to 0.67 and AUC increasing from 0.73 to 0.81 as compared to without clustering in Question 1. \n",
    "\n",
    "For Naive Bayes model, it assumes that all features are independent, which might not be completely valid. When clustering is performed, samples are grouped together according to their similarities. When using Naive Bayes model on each cluster, the assumption that the features are independent would be stronger given that the samples have high similarity. As such, this could contribute to the improvement in results.  "
   ]
  }
 ],
 "metadata": {
  "kernelspec": {
   "display_name": "Python 3",
   "language": "python",
   "name": "python3"
  },
  "language_info": {
   "codemirror_mode": {
    "name": "ipython",
    "version": 3
   },
   "file_extension": ".py",
   "mimetype": "text/x-python",
   "name": "python",
   "nbconvert_exporter": "python",
   "pygments_lexer": "ipython3",
   "version": "3.7.4"
  },
  "toc": {
   "base_numbering": 1,
   "nav_menu": {},
   "number_sections": true,
   "sideBar": true,
   "skip_h1_title": false,
   "title_cell": "Table of Contents",
   "title_sidebar": "Contents",
   "toc_cell": false,
   "toc_position": {},
   "toc_section_display": true,
   "toc_window_display": false
  },
  "varInspector": {
   "cols": {
    "lenName": 16,
    "lenType": 16,
    "lenVar": 40
   },
   "kernels_config": {
    "python": {
     "delete_cmd_postfix": "",
     "delete_cmd_prefix": "del ",
     "library": "var_list.py",
     "varRefreshCmd": "print(var_dic_list())"
    },
    "r": {
     "delete_cmd_postfix": ") ",
     "delete_cmd_prefix": "rm(",
     "library": "var_list.r",
     "varRefreshCmd": "cat(var_dic_list()) "
    }
   },
   "types_to_exclude": [
    "module",
    "function",
    "builtin_function_or_method",
    "instance",
    "_Feature"
   ],
   "window_display": false
  }
 },
 "nbformat": 4,
 "nbformat_minor": 2
}
