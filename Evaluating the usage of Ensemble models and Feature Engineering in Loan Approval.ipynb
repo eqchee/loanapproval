{
 "cells": [
  {
   "cell_type": "markdown",
   "metadata": {},
   "source": [
    "### Data Pre-Processing"
   ]
  },
  {
   "cell_type": "code",
   "execution_count": 1,
   "metadata": {},
   "outputs": [],
   "source": [
    "import pandas as pd"
   ]
  },
  {
   "cell_type": "code",
   "execution_count": 2,
   "metadata": {},
   "outputs": [
    {
     "name": "stderr",
     "output_type": "stream",
     "text": [
      "C:\\Users\\Enqing\\Anaconda3\\lib\\site-packages\\IPython\\core\\interactiveshell.py:3058: DtypeWarning: Columns (0,19) have mixed types. Specify dtype option on import or set low_memory=False.\n",
      "  interactivity=interactivity, compiler=compiler, result=result)\n"
     ]
    }
   ],
   "source": [
    "loanStats = pd.read_csv('LoanStats_2016Q4.csv', skiprows = 1)\n",
    "rejectStats = pd.read_csv('RejectStats_2016Q4.csv', skiprows = 1)"
   ]
  },
  {
   "cell_type": "code",
   "execution_count": 3,
   "metadata": {},
   "outputs": [
    {
     "name": "stdout",
     "output_type": "stream",
     "text": [
      "(103548, 144)\n",
      "Index(['id', 'member_id', 'loan_amnt', 'funded_amnt', 'funded_amnt_inv',\n",
      "       'term', 'int_rate', 'installment', 'grade', 'sub_grade',\n",
      "       ...\n",
      "       'orig_projected_additional_accrued_interest',\n",
      "       'hardship_payoff_balance_amount', 'hardship_last_payment_amount',\n",
      "       'debt_settlement_flag', 'debt_settlement_flag_date',\n",
      "       'settlement_status', 'settlement_date', 'settlement_amount',\n",
      "       'settlement_percentage', 'settlement_term'],\n",
      "      dtype='object', length=144)\n"
     ]
    }
   ],
   "source": [
    "print(loanStats.shape)\n",
    "print(loanStats.columns)"
   ]
  },
  {
   "cell_type": "code",
   "execution_count": 4,
   "metadata": {},
   "outputs": [
    {
     "name": "stdout",
     "output_type": "stream",
     "text": [
      "(1404490, 9)\n",
      "Index(['Amount Requested', 'Application Date', 'Loan Title', 'Risk_Score',\n",
      "       'Debt-To-Income Ratio', 'Zip Code', 'State', 'Employment Length',\n",
      "       'Policy Code'],\n",
      "      dtype='object')\n"
     ]
    }
   ],
   "source": [
    "print(rejectStats.shape)\n",
    "print(rejectStats.columns)"
   ]
  },
  {
   "cell_type": "code",
   "execution_count": 5,
   "metadata": {},
   "outputs": [
    {
     "data": {
      "text/html": [
       "<div>\n",
       "<style scoped>\n",
       "    .dataframe tbody tr th:only-of-type {\n",
       "        vertical-align: middle;\n",
       "    }\n",
       "\n",
       "    .dataframe tbody tr th {\n",
       "        vertical-align: top;\n",
       "    }\n",
       "\n",
       "    .dataframe thead th {\n",
       "        text-align: right;\n",
       "    }\n",
       "</style>\n",
       "<table border=\"1\" class=\"dataframe\">\n",
       "  <thead>\n",
       "    <tr style=\"text-align: right;\">\n",
       "      <th></th>\n",
       "      <th>id</th>\n",
       "      <th>member_id</th>\n",
       "      <th>loan_amnt</th>\n",
       "      <th>funded_amnt</th>\n",
       "      <th>funded_amnt_inv</th>\n",
       "      <th>term</th>\n",
       "      <th>int_rate</th>\n",
       "      <th>installment</th>\n",
       "      <th>grade</th>\n",
       "      <th>sub_grade</th>\n",
       "      <th>...</th>\n",
       "      <th>orig_projected_additional_accrued_interest</th>\n",
       "      <th>hardship_payoff_balance_amount</th>\n",
       "      <th>hardship_last_payment_amount</th>\n",
       "      <th>debt_settlement_flag</th>\n",
       "      <th>debt_settlement_flag_date</th>\n",
       "      <th>settlement_status</th>\n",
       "      <th>settlement_date</th>\n",
       "      <th>settlement_amount</th>\n",
       "      <th>settlement_percentage</th>\n",
       "      <th>settlement_term</th>\n",
       "    </tr>\n",
       "  </thead>\n",
       "  <tbody>\n",
       "    <tr>\n",
       "      <td>103545</td>\n",
       "      <td>NaN</td>\n",
       "      <td>NaN</td>\n",
       "      <td>14000.0</td>\n",
       "      <td>14000.0</td>\n",
       "      <td>14000.0</td>\n",
       "      <td>60 months</td>\n",
       "      <td>14.49%</td>\n",
       "      <td>329.33</td>\n",
       "      <td>C</td>\n",
       "      <td>C4</td>\n",
       "      <td>...</td>\n",
       "      <td>NaN</td>\n",
       "      <td>NaN</td>\n",
       "      <td>NaN</td>\n",
       "      <td>N</td>\n",
       "      <td>NaN</td>\n",
       "      <td>NaN</td>\n",
       "      <td>NaN</td>\n",
       "      <td>NaN</td>\n",
       "      <td>NaN</td>\n",
       "      <td>NaN</td>\n",
       "    </tr>\n",
       "    <tr>\n",
       "      <td>103546</td>\n",
       "      <td>Total amount funded in policy code 1: 1465324575</td>\n",
       "      <td>NaN</td>\n",
       "      <td>NaN</td>\n",
       "      <td>NaN</td>\n",
       "      <td>NaN</td>\n",
       "      <td>NaN</td>\n",
       "      <td>NaN</td>\n",
       "      <td>NaN</td>\n",
       "      <td>NaN</td>\n",
       "      <td>NaN</td>\n",
       "      <td>...</td>\n",
       "      <td>NaN</td>\n",
       "      <td>NaN</td>\n",
       "      <td>NaN</td>\n",
       "      <td>NaN</td>\n",
       "      <td>NaN</td>\n",
       "      <td>NaN</td>\n",
       "      <td>NaN</td>\n",
       "      <td>NaN</td>\n",
       "      <td>NaN</td>\n",
       "      <td>NaN</td>\n",
       "    </tr>\n",
       "    <tr>\n",
       "      <td>103547</td>\n",
       "      <td>Total amount funded in policy code 2: 521953170</td>\n",
       "      <td>NaN</td>\n",
       "      <td>NaN</td>\n",
       "      <td>NaN</td>\n",
       "      <td>NaN</td>\n",
       "      <td>NaN</td>\n",
       "      <td>NaN</td>\n",
       "      <td>NaN</td>\n",
       "      <td>NaN</td>\n",
       "      <td>NaN</td>\n",
       "      <td>...</td>\n",
       "      <td>NaN</td>\n",
       "      <td>NaN</td>\n",
       "      <td>NaN</td>\n",
       "      <td>NaN</td>\n",
       "      <td>NaN</td>\n",
       "      <td>NaN</td>\n",
       "      <td>NaN</td>\n",
       "      <td>NaN</td>\n",
       "      <td>NaN</td>\n",
       "      <td>NaN</td>\n",
       "    </tr>\n",
       "  </tbody>\n",
       "</table>\n",
       "<p>3 rows × 144 columns</p>\n",
       "</div>"
      ],
      "text/plain": [
       "                                                      id  member_id  \\\n",
       "103545                                               NaN        NaN   \n",
       "103546  Total amount funded in policy code 1: 1465324575        NaN   \n",
       "103547   Total amount funded in policy code 2: 521953170        NaN   \n",
       "\n",
       "        loan_amnt  funded_amnt  funded_amnt_inv        term int_rate  \\\n",
       "103545    14000.0      14000.0          14000.0   60 months   14.49%   \n",
       "103546        NaN          NaN              NaN         NaN      NaN   \n",
       "103547        NaN          NaN              NaN         NaN      NaN   \n",
       "\n",
       "        installment grade sub_grade  ...  \\\n",
       "103545       329.33     C        C4  ...   \n",
       "103546          NaN   NaN       NaN  ...   \n",
       "103547          NaN   NaN       NaN  ...   \n",
       "\n",
       "       orig_projected_additional_accrued_interest  \\\n",
       "103545                                        NaN   \n",
       "103546                                        NaN   \n",
       "103547                                        NaN   \n",
       "\n",
       "       hardship_payoff_balance_amount hardship_last_payment_amount  \\\n",
       "103545                            NaN                          NaN   \n",
       "103546                            NaN                          NaN   \n",
       "103547                            NaN                          NaN   \n",
       "\n",
       "        debt_settlement_flag debt_settlement_flag_date settlement_status  \\\n",
       "103545                     N                       NaN               NaN   \n",
       "103546                   NaN                       NaN               NaN   \n",
       "103547                   NaN                       NaN               NaN   \n",
       "\n",
       "       settlement_date settlement_amount  settlement_percentage  \\\n",
       "103545             NaN               NaN                    NaN   \n",
       "103546             NaN               NaN                    NaN   \n",
       "103547             NaN               NaN                    NaN   \n",
       "\n",
       "       settlement_term  \n",
       "103545             NaN  \n",
       "103546             NaN  \n",
       "103547             NaN  \n",
       "\n",
       "[3 rows x 144 columns]"
      ]
     },
     "execution_count": 5,
     "metadata": {},
     "output_type": "execute_result"
    }
   ],
   "source": [
    "loanStats[-3:]"
   ]
  },
  {
   "cell_type": "markdown",
   "metadata": {},
   "source": [
    "Drop last two rows"
   ]
  },
  {
   "cell_type": "code",
   "execution_count": 6,
   "metadata": {},
   "outputs": [],
   "source": [
    "loanStats = loanStats.drop(loanStats.index[-2:])"
   ]
  },
  {
   "cell_type": "markdown",
   "metadata": {},
   "source": [
    "Drop first two columns since they are empty"
   ]
  },
  {
   "cell_type": "code",
   "execution_count": 7,
   "metadata": {},
   "outputs": [],
   "source": [
    "loanStats = loanStats.drop(['id', 'member_id'], axis = 1)"
   ]
  },
  {
   "cell_type": "code",
   "execution_count": 8,
   "metadata": {},
   "outputs": [
    {
     "name": "stdout",
     "output_type": "stream",
     "text": [
      "(103546, 142)\n",
      "Index(['loan_amnt', 'funded_amnt', 'funded_amnt_inv', 'term', 'int_rate',\n",
      "       'installment', 'grade', 'sub_grade', 'emp_title', 'emp_length',\n",
      "       ...\n",
      "       'orig_projected_additional_accrued_interest',\n",
      "       'hardship_payoff_balance_amount', 'hardship_last_payment_amount',\n",
      "       'debt_settlement_flag', 'debt_settlement_flag_date',\n",
      "       'settlement_status', 'settlement_date', 'settlement_amount',\n",
      "       'settlement_percentage', 'settlement_term'],\n",
      "      dtype='object', length=142)\n",
      "(1404490, 9)\n",
      "Index(['Amount Requested', 'Application Date', 'Loan Title', 'Risk_Score',\n",
      "       'Debt-To-Income Ratio', 'Zip Code', 'State', 'Employment Length',\n",
      "       'Policy Code'],\n",
      "      dtype='object')\n"
     ]
    }
   ],
   "source": [
    "print(loanStats.shape)\n",
    "print(loanStats.columns)\n",
    "print(rejectStats.shape)\n",
    "print(rejectStats.columns)"
   ]
  },
  {
   "cell_type": "code",
   "execution_count": 9,
   "metadata": {},
   "outputs": [
    {
     "name": "stdout",
     "output_type": "stream",
     "text": [
      "count    103546.000000\n",
      "mean      14151.435835\n",
      "std        9215.032376\n",
      "min        1000.000000\n",
      "25%        7000.000000\n",
      "50%       12000.000000\n",
      "75%       20000.000000\n",
      "max       40000.000000\n",
      "Name: loan_amnt, dtype: float64\n",
      "count    1.404490e+06\n",
      "mean     1.293313e+04\n",
      "std      1.567272e+04\n",
      "min      0.000000e+00\n",
      "25%      4.000000e+03\n",
      "50%      1.000000e+04\n",
      "75%      2.000000e+04\n",
      "max      3.000000e+05\n",
      "Name: Amount Requested, dtype: float64\n"
     ]
    }
   ],
   "source": [
    "print(loanStats['loan_amnt'].describe())\n",
    "print(rejectStats['Amount Requested'].describe())"
   ]
  },
  {
   "cell_type": "code",
   "execution_count": 10,
   "metadata": {},
   "outputs": [
    {
     "name": "stdout",
     "output_type": "stream",
     "text": [
      "Debt consolidation         59749\n",
      "Credit card refinancing    20528\n",
      "Home improvement            7393\n",
      "Other                       7383\n",
      "Major purchase              2470\n",
      "Medical expenses            1468\n",
      "Business                    1216\n",
      "Car financing               1162\n",
      "Vacation                     829\n",
      "Moving and relocation        772\n",
      "Home buying                  475\n",
      "Green loan                    97\n",
      "Name: title, dtype: int64\n",
      "debt_consolidation         359782\n",
      "Debt consolidation         324415\n",
      "other                      146389\n",
      "credit_card                 96179\n",
      "Other                       71882\n",
      "Credit card refinancing     67381\n",
      "home_improvement            44136\n",
      "Home improvement            31054\n",
      "car                         29480\n",
      "major_purchase              29301\n",
      "Car financing               22788\n",
      "moving                      20836\n",
      "medical                     20814\n",
      "Medical expenses            19315\n",
      "Business Loan               18575\n",
      "Moving and relocation       17616\n",
      "Major purchase              17505\n",
      "Business                    13845\n",
      "small_business              13410\n",
      "house                       11088\n",
      "vacation                     9842\n",
      "Vacation                     7392\n",
      "Home buying                  7300\n",
      "Green loan                   2075\n",
      "renewable_energy             2009\n",
      "Name: Loan Title, dtype: int64\n"
     ]
    }
   ],
   "source": [
    "print(loanStats['title'].value_counts())\n",
    "print(rejectStats['Loan Title'].value_counts())"
   ]
  },
  {
   "cell_type": "markdown",
   "metadata": {},
   "source": [
    "There are only 9 columns in reject data, let's try to match loan data with reject data:<br/>\n",
    "* 'loan_amnt' in loanStats should match with 'Amount Requested' in rejectStats.\n",
    "* 'issue_d' in loanStats is the issue date, it should be later than 'Application Date' in rejectStats, let's ignore this pair for now.\n",
    "* 'title' in loanStats should match with 'Loan Title' in rejectStats. However, we need to deal with upper/lower case and space/underscore issues.\n",
    "* There is no column in loanStats matches with 'Risk_Score' in rejectStats, would be very useful if there was one.\n",
    "* 'dti' in loanStats matches with 'Debt-To-Income Ratio' in rejectStats.\n",
    "* 'zip_code' and 'addr_state' in loanStats match with 'Zip Code' and 'State' in rejectStats respectively. Zip codes are only available in first 3 digits, and we might need to get external data for the demographics about the zip code.\n",
    "* 'emp_length' in loanStats matches with 'Employment Length' in rejectStats.\n",
    "* 'policy_code' in loanStats matches with 'Policy Code' in rejectStats."
   ]
  },
  {
   "cell_type": "code",
   "execution_count": 11,
   "metadata": {},
   "outputs": [
    {
     "name": "stdout",
     "output_type": "stream",
     "text": [
      "10+ years    35981\n",
      "2 years       9652\n",
      "3 years       8244\n",
      "< 1 year      7591\n",
      "1 year        6707\n",
      "5 years       6292\n",
      "4 years       6249\n",
      "6 years       4786\n",
      "8 years       3951\n",
      "9 years       3870\n",
      "7 years       3346\n",
      "Name: emp_length, dtype: int64\n",
      "< 1 year     1022412\n",
      "5 years       274322\n",
      "10+ years      16782\n",
      "2 years         5248\n",
      "3 years         4502\n",
      "1 year          4389\n",
      "4 years         3314\n",
      "6 years         2494\n",
      "8 years         1953\n",
      "7 years         1918\n",
      "9 years         1586\n",
      "Name: Employment Length, dtype: int64\n"
     ]
    }
   ],
   "source": [
    "print(loanStats['emp_length'].value_counts())\n",
    "print(rejectStats['Employment Length'].value_counts())"
   ]
  },
  {
   "cell_type": "code",
   "execution_count": 12,
   "metadata": {},
   "outputs": [
    {
     "name": "stdout",
     "output_type": "stream",
     "text": [
      "1.0    103546\n",
      "Name: policy_code, dtype: int64\n",
      "0    1403661\n",
      "2        829\n",
      "Name: Policy Code, dtype: int64\n"
     ]
    }
   ],
   "source": [
    "print(loanStats['policy_code'].value_counts())\n",
    "print(rejectStats['Policy Code'].value_counts())"
   ]
  },
  {
   "cell_type": "markdown",
   "metadata": {},
   "source": [
    "However, policy code is useless since it carries different meaning in the two datasets, so we should ignore this pair of columns.<br/>\n",
    "Let's now build two new dataframes, and keep their columns consistent."
   ]
  },
  {
   "cell_type": "code",
   "execution_count": 13,
   "metadata": {},
   "outputs": [],
   "source": [
    "approved = pd.DataFrame()\n",
    "rejected = pd.DataFrame()"
   ]
  },
  {
   "cell_type": "markdown",
   "metadata": {},
   "source": [
    "Copy values from 'loan_amnt' and 'Amount Requested' directly to the new dataframes"
   ]
  },
  {
   "cell_type": "code",
   "execution_count": 14,
   "metadata": {},
   "outputs": [],
   "source": [
    "approved['amount'] = loanStats['loan_amnt']\n",
    "rejected['amount'] = rejectStats['Amount Requested']"
   ]
  },
  {
   "cell_type": "markdown",
   "metadata": {},
   "source": [
    "Using lambda functions to convert strings, first make all characters lower cases, and split them by space, then join them using '\\_'. While joining, remove words like 'and', 'expenses', 'financing', 'loan', 'refinancing', as these words are not important in reasons for loans. To further consolidate the reasons, we merge 'housing' to 'home\\_buying', 'moving' to 'moving\\_relocation', 'renewable\\_energy' to 'green', and 'small\\_business' to 'business'."
   ]
  },
  {
   "cell_type": "code",
   "execution_count": 15,
   "metadata": {},
   "outputs": [],
   "source": [
    "stop_words = ['and', 'expenses', 'financing', 'loan', 'refinancing']\n",
    "approved['reason'] = loanStats['title'].apply(lambda x: 'other' if type(x) != str else '_'.join([i for i in x.lower().split() if i not in stop_words]))\n",
    "rejected['reason'] = rejectStats['Loan Title'].apply(lambda x: 'other' if type(x) != str else '_'.join([i for i in x.lower().split() if i not in stop_words]))\n",
    "convert = {'house': 'home_buying', 'moving': 'moving_relocation', 'renewable_energy': 'green', 'small_business': 'business'}\n",
    "rejected['reason'] = rejected['reason'].apply(lambda x: convert[x] if x in convert else x)"
   ]
  },
  {
   "cell_type": "markdown",
   "metadata": {},
   "source": [
    "Copy values from 'dti' and 'Debt-To-Income Ratio', however, to identify Not-a-Number floats, we test x == x, in it's a NaN, we set it to the maximum in the dataset."
   ]
  },
  {
   "cell_type": "code",
   "execution_count": 16,
   "metadata": {},
   "outputs": [],
   "source": [
    "approved['debt_to_income'] = loanStats['dti'].apply(lambda x: max(0.0, min(x / 100, 1.0)) if x == x else 1.0)\n",
    "rejected['debt_to_income'] = rejectStats['Debt-To-Income Ratio'].apply(lambda x: max(0.0, min(float(x[:-1]) / 100, 1.0)))"
   ]
  },
  {
   "cell_type": "markdown",
   "metadata": {},
   "source": [
    "Keep the first 3 digits of the zip codes since the last 2 digits are masked, however, it is unnecessary to convert them to numbers."
   ]
  },
  {
   "cell_type": "code",
   "execution_count": 17,
   "metadata": {},
   "outputs": [],
   "source": [
    "approved['zip3'] = loanStats['zip_code'].apply(lambda x: x[:3] if type(x) == str else 'N/A')\n",
    "rejected['zip3'] = rejectStats['Zip Code'].apply(lambda x: x[:3] if type(x) == str else 'N/A')\n",
    "approved['state'] = loanStats['addr_state']\n",
    "rejected['state'] = rejectStats['State']"
   ]
  },
  {
   "cell_type": "markdown",
   "metadata": {},
   "source": [
    "Convert the employment length to numerical values, if it is not specified, or less than a year, we take them as 0."
   ]
  },
  {
   "cell_type": "code",
   "execution_count": 18,
   "metadata": {},
   "outputs": [],
   "source": [
    "approved['employ_length'] = loanStats['emp_length'].apply(lambda x: 0 if type(x) != str or x[:3] == '< 1' else int(x[:2]))\n",
    "rejected['employ_length'] = rejectStats['Employment Length'].apply(lambda x: 0 if type(x) != str or x[:3] == '< 1' else int(x[:2]))"
   ]
  },
  {
   "cell_type": "markdown",
   "metadata": {},
   "source": [
    "The column 'reason' is now the only nominal column, we may use function get\\_dummies, drop 'other' is recommended since 'reason\\_=\\_other' is fuzzy, and should be expressed by 0 in all other reason columns."
   ]
  },
  {
   "cell_type": "code",
   "execution_count": 19,
   "metadata": {},
   "outputs": [],
   "source": [
    "approved = pd.concat([approved, pd.get_dummies(approved['reason'], prefix = 'reason', prefix_sep = '_=_').drop('reason_=_other', axis = 1)], axis = 1).drop('reason', axis = 1)\n",
    "rejected = pd.concat([rejected, pd.get_dummies(rejected['reason'], prefix = 'reason', prefix_sep = '_=_').drop('reason_=_other', axis = 1)], axis = 1).drop('reason', axis = 1)"
   ]
  },
  {
   "cell_type": "markdown",
   "metadata": {},
   "source": [
    "Add the response column to the two dataframes."
   ]
  },
  {
   "cell_type": "code",
   "execution_count": 20,
   "metadata": {},
   "outputs": [],
   "source": [
    "approved['approved'] = 1\n",
    "rejected['approved'] = 0"
   ]
  },
  {
   "cell_type": "markdown",
   "metadata": {},
   "source": [
    "Convert the two dataframes to numpy arrays."
   ]
  },
  {
   "cell_type": "code",
   "execution_count": 21,
   "metadata": {},
   "outputs": [],
   "source": [
    "data_pos = approved.drop(['zip3', 'state'], axis = 1).values\n",
    "data_neg = rejected.drop(['zip3', 'state'], axis = 1).values"
   ]
  },
  {
   "cell_type": "code",
   "execution_count": 22,
   "metadata": {},
   "outputs": [
    {
     "name": "stdout",
     "output_type": "stream",
     "text": [
      "(103546, 15)\n",
      "(1404490, 15)\n"
     ]
    }
   ],
   "source": [
    "print(data_pos.shape)\n",
    "print(data_neg.shape)"
   ]
  },
  {
   "cell_type": "markdown",
   "metadata": {},
   "source": [
    "#### Imbalanced Dataset\n",
    "\n",
    "From the values shown above, it can be seen that the dataset is imbalanced, where only about 6.87% of the data are in the positive class. "
   ]
  },
  {
   "cell_type": "markdown",
   "metadata": {},
   "source": [
    "#### Split and Scale Data"
   ]
  },
  {
   "cell_type": "code",
   "execution_count": 23,
   "metadata": {},
   "outputs": [],
   "source": [
    "from sklearn.model_selection import train_test_split\n",
    "from sklearn.preprocessing import MinMaxScaler\n",
    "\n",
    "#combine both approved and rejected data\n",
    "data = np.concatenate((data_pos, data_neg), axis=0)\n",
    "\n",
    "#split dataset into train and test set\n",
    "X_train, X_test, y_train, y_test = train_test_split(data[:,:-1], data[:,-1], stratify=data[:,-1], random_state=88)\n",
    "\n",
    "# scale loan amount and employment length\n",
    "mms = MinMaxScaler()\n",
    "X_train[:,[0,2]] = mms.fit_transform(X_train[:,[0,2]])\n",
    "X_test[:,[0,2]] = mms.transform(X_test[:,[0,2]])"
   ]
  },
  {
   "attachments": {
    "image.png": {
     "image/png": "[encoded data removed]"
    }
   },
   "cell_type": "markdown",
   "metadata": {},
   "source": [
    "#### Decision Threshold:\n",
    "\n",
    "Conventionally, decision threshold is selected to be 0.5 by default. However, threshold-moving will be performed to account for the imbalanced data by chosing the decision threshold where F-beta score is maximised.\n",
    "\n",
    "#### Choice of beta value:\n",
    "\n",
    "In this problem, positive class would represent the loans which have been approved. For loans, it would be better to minimise false positives to reduce risk of default and thus cost impact to the lending club. As such, precision would be important as the cost of false positive is high. \n",
    "\n",
    "![image.png](attachment:image.png)"
   ]
  },
  {
   "attachments": {
    "image.png": {
     "image/png": "[encoded data removed]"
    }
   },
   "cell_type": "markdown",
   "metadata": {},
   "source": [
    "F-beta allows a balance between precision and recall. \n",
    "![image.png](attachment:image.png)\n",
    "\n",
    "Since precision is more critical for this problem, a beta value of 0.5 is selected to give higher weightage to precision, thus focusing more on minimising false positives than minimising false negatives.  "
   ]
  },
  {
   "cell_type": "markdown",
   "metadata": {},
   "source": [
    "### Develop Ensemble Models"
   ]
  },
  {
   "cell_type": "markdown",
   "metadata": {},
   "source": [
    "To compare the various ensemble learning methods, we would use Decision Tree Classifier with max depth 2 as the base estimator for fair comparison. For stacking, we would add Naive Bayes and Logistic Regression Classifiers to the Decision Tree Classifier.\n",
    "\n",
    "#### Create F-beta scorer for GridSearchCV\n",
    "Since we would like to maximise F-beta score, a F-beta scorer has been developed to be used with GridSearchCV."
   ]
  },
  {
   "cell_type": "code",
   "execution_count": 29,
   "metadata": {},
   "outputs": [],
   "source": [
    "from sklearn.metrics import make_scorer\n",
    "\n",
    "# create function to return max F-beta score\n",
    "def fbeta_custom(y_test, y_pred_proba):\n",
    "    fbeta = []\n",
    "    for i in threshold:\n",
    "        y_pred = np.where(y_pred_proba[:]>i, 1, 0)\n",
    "        score = fbeta_score(y_test,y_pred,beta=beta)\n",
    "        if i==threshold[0]:\n",
    "            thresholdSelected = i\n",
    "        elif score>max(fbeta):\n",
    "            thresholdSelected = i\n",
    "        fbeta.append(score)\n",
    "    y_pred = np.where(y_pred_proba[:]>thresholdSelected, 1, 0)\n",
    "    return fbeta_score(y_test,y_pred,beta=beta)\n",
    "\n",
    "# F-beta scorer for use in GridSearchCV\n",
    "fbeta_scorer = make_scorer(fbeta_custom, needs_proba=True, greater_is_better=True)"
   ]
  },
  {
   "cell_type": "markdown",
   "metadata": {},
   "source": [
    "#### Bagging Model"
   ]
  },
  {
   "cell_type": "code",
   "execution_count": 30,
   "metadata": {},
   "outputs": [
    {
     "name": "stdout",
     "output_type": "stream",
     "text": [
      "--------------------------------------------------\n",
      "Bagging Model\n",
      "--------------------------------------------------\n",
      "Base Classifier: DecisionTreeClassifier(max_depth=2)\n",
      "Parameter Settings: {'max_samples': 0.1, 'n_estimators': 15}\n",
      "Select threshold of 0.22 for bagging model to maximise F-beta score\n",
      "Precision: 0.69\n",
      "Recall: 0.49\n",
      "Chosen beta: 0.5\n",
      "F-beta: 0.64\n",
      "AUC under ROC: 0.74\n"
     ]
    },
    {
     "data": {
      "image/png": "[encoded data removed]",
      "text/plain": [
       "<Figure size 432x288 with 1 Axes>"
      ]
     },
     "metadata": {
      "needs_background": "light"
     },
     "output_type": "display_data"
    }
   ],
   "source": [
    "# Bagging Model\n",
    "\n",
    "from sklearn.ensemble import BaggingClassifier\n",
    "from sklearn.tree import DecisionTreeClassifier\n",
    "from sklearn.model_selection import GridSearchCV\n",
    "\n",
    "# perform GridSearchCV to optimise bagging model and perform prediction\n",
    "parameters = {'max_samples': [0.1,0.3,0.5],\n",
    "             'n_estimators': [5,10,15]}\n",
    "bag = GridSearchCV(BaggingClassifier(DecisionTreeClassifier(max_depth=2)), param_grid=parameters, n_jobs=-1, scoring=fbeta_scorer)\n",
    "bag.fit(X_train, y_train)\n",
    "y_pred_proba = bag.predict_proba(X_test)\n",
    "\n",
    "# compute F-beta score as threshold varies\n",
    "fbeta = []\n",
    "for i in threshold:\n",
    "    y_pred = np.where(y_pred_proba[:,1]>i, 1, 0)\n",
    "    score = fbeta_score(y_test,y_pred,beta=beta)\n",
    "    if i==threshold[0]:\n",
    "        thresholdSelected = i\n",
    "    elif score>max(fbeta):\n",
    "        thresholdSelected = i\n",
    "    fbeta.append(score)\n",
    "\n",
    "# plot change in F-beta score as threshold varies\n",
    "plt.plot(threshold,fbeta)\n",
    "plt.ylabel('F-Beta Score')\n",
    "plt.xlabel('Threshold')\n",
    "\n",
    "# compute scores for threshold selected\n",
    "y_pred = np.where(y_pred_proba[:,1]>thresholdSelected, 1, 0)\n",
    "print(\"-\"*50)\n",
    "print(\"Bagging Model\")\n",
    "print(\"-\"*50)\n",
    "print(f\"Base Classifier: DecisionTreeClassifier(max_depth=2)\")\n",
    "print(f\"Parameter Settings: {bag.best_params_}\") #depth 3 and 0.3\n",
    "print(f\"Select threshold of {thresholdSelected} for bagging model to maximise F-beta score\")\n",
    "print(f\"Precision: {precision_score(y_test,y_pred):.2f}\")\n",
    "print(f\"Recall: {recall_score(y_test,y_pred):.2f}\")\n",
    "print(f\"Chosen beta: {beta}\")\n",
    "print(f\"F-beta: {fbeta_score(y_test,y_pred,beta=beta):.2f}\")\n",
    "print(f\"AUC under ROC: {roc_auc_score(y_test,y_pred):.2f}\")"
   ]
  },
  {
   "cell_type": "markdown",
   "metadata": {},
   "source": [
    "#### Boosting Model"
   ]
  },
  {
   "cell_type": "code",
   "execution_count": 31,
   "metadata": {
    "scrolled": false
   },
   "outputs": [
    {
     "name": "stdout",
     "output_type": "stream",
     "text": [
      "--------------------------------------------------\n",
      "Boosting Model\n",
      "--------------------------------------------------\n",
      "Base Classifier: DecisionTreeClassifier(max_depth=2)\n",
      "Parameter Settings: {'algorithm': 'SAMME.R', 'learning_rate': 1, 'n_estimators': 15}\n",
      "Select threshold of 0.51 for boosting model to maximise F-beta score\n",
      "Precision: 0.79\n",
      "Recall: 0.57\n",
      "Chosen beta: 0.5\n",
      "F-beta: 0.73\n",
      "AUC under ROC: 0.78\n"
     ]
    },
    {
     "data": {
      "image/png": "[encoded data removed]",
      "text/plain": [
       "<Figure size 432x288 with 1 Axes>"
      ]
     },
     "metadata": {
      "needs_background": "light"
     },
     "output_type": "display_data"
    }
   ],
   "source": [
    "# Boosting Model\n",
    "\n",
    "from sklearn.ensemble import AdaBoostClassifier\n",
    "from sklearn.tree import DecisionTreeClassifier\n",
    "from sklearn.model_selection import GridSearchCV\n",
    "\n",
    "# perform GridSearchCV to optimise boosting model and perform prediction\n",
    "parameters = {'algorithm': ['SAMME', 'SAMME.R'],\n",
    "             'n_estimators': [5,10,15],\n",
    "             'learning_rate': [0.01,0.1,1]}\n",
    "ada = GridSearchCV(AdaBoostClassifier(DecisionTreeClassifier(max_depth=2)), param_grid=parameters, n_jobs=-1, scoring=fbeta_scorer)\n",
    "ada.fit(X_train, y_train)\n",
    "y_pred_proba = ada.predict_proba(X_test)\n",
    "\n",
    "# compute F-beta score as threshold varies\n",
    "fbeta = []\n",
    "for i in threshold:\n",
    "    y_pred = np.where(y_pred_proba[:,1]>i, 1, 0)\n",
    "    score = fbeta_score(y_test,y_pred,beta=0.5)\n",
    "    if i==threshold[0]:\n",
    "        thresholdSelected = i\n",
    "    elif score>max(fbeta):\n",
    "        thresholdSelected = i\n",
    "    fbeta.append(score)\n",
    "\n",
    "# plot change in F-beta score as threshold varies\n",
    "plt.plot(threshold,fbeta)\n",
    "plt.ylabel('F-Beta Score')\n",
    "plt.xlabel('Threshold')\n",
    "\n",
    "# compute scores for threshold selected\n",
    "y_pred = np.where(y_pred_proba[:,1]>thresholdSelected, 1, 0)\n",
    "print(\"-\"*50)\n",
    "print(\"Boosting Model\")\n",
    "print(\"-\"*50)\n",
    "print(f\"Base Classifier: DecisionTreeClassifier(max_depth=2)\")\n",
    "print(f\"Parameter Settings: {ada.best_params_}\") \n",
    "print(f\"Select threshold of {thresholdSelected} for boosting model to maximise F-beta score\")\n",
    "print(f\"Precision: {precision_score(y_test,y_pred):.2f}\")\n",
    "print(f\"Recall: {recall_score(y_test,y_pred):.2f}\")\n",
    "print(f\"Chosen beta: {beta}\")\n",
    "print(f\"F-beta: {fbeta_score(y_test,y_pred,beta=beta):.2f}\")\n",
    "print(f\"AUC under ROC: {roc_auc_score(y_test,y_pred):.2f}\")"
   ]
  },
  {
   "cell_type": "markdown",
   "metadata": {},
   "source": [
    "#### Stacking Model"
   ]
  },
  {
   "cell_type": "code",
   "execution_count": 32,
   "metadata": {},
   "outputs": [
    {
     "name": "stdout",
     "output_type": "stream",
     "text": [
      "--------------------------------------------------\n",
      "Stacking Model\n",
      "--------------------------------------------------\n",
      "Base Classifiers and Parameter Settings: [('dt', DecisionTreeClassifier(max_depth=2)), ('nb', GaussianNB()), ('lr', LogisticRegression(C=0.001))]\n",
      "Select threshold of 0.15 for stacking model to maximise F-beta score\n",
      "Precision: 0.70\n",
      "Recall: 0.53\n",
      "Chosen beta: 0.5\n",
      "F-beta: 0.66\n",
      "AUC under ROC: 0.76\n"
     ]
    },
    {
     "data": {
      "image/png": "[encoded data removed]",
      "text/plain": [
       "<Figure size 432x288 with 1 Axes>"
      ]
     },
     "metadata": {
      "needs_background": "light"
     },
     "output_type": "display_data"
    }
   ],
   "source": [
    "# Stacking Model\n",
    "from sklearn.ensemble import StackingClassifier\n",
    "\n",
    "# Create stacking model using Decision Tree and Naive Bayes classifiers\n",
    "estimators = [('dt',DecisionTreeClassifier(max_depth=2)), ('nb', GaussianNB()), ('lr', LogisticRegression(C=0.001))]\n",
    "stack = StackingClassifier(estimators=estimators, n_jobs=-1)\n",
    "stack.fit(X_train, y_train)\n",
    "y_pred_proba = stack.predict_proba(X_test)\n",
    "    \n",
    "# compute F-beta score as threshold varies\n",
    "fbeta = []\n",
    "for i in threshold:\n",
    "    y_pred = np.where(y_pred_proba[:,1]>i, 1, 0)\n",
    "    score = fbeta_score(y_test,y_pred,beta=beta)\n",
    "    if i==threshold[0]:\n",
    "        thresholdSelected = i\n",
    "    elif score>max(fbeta):\n",
    "        thresholdSelected = i\n",
    "    fbeta.append(score)\n",
    "\n",
    "# plot change in F-beta score as threshold varies\n",
    "plt.plot(threshold,fbeta)\n",
    "plt.ylabel('F-Beta Score')\n",
    "plt.xlabel('Threshold')\n",
    "\n",
    "# compute scores for threshold selected\n",
    "y_pred = np.where(y_pred_proba[:,1]>thresholdSelected, 1, 0)\n",
    "print(\"-\"*50)\n",
    "print(\"Stacking Model\")\n",
    "print(\"-\"*50)\n",
    "print(f\"Base Classifiers and Parameter Settings: {estimators}\")\n",
    "print(f\"Select threshold of {thresholdSelected} for stacking model to maximise F-beta score\")\n",
    "print(f\"Precision: {precision_score(y_test,y_pred):.2f}\")\n",
    "print(f\"Recall: {recall_score(y_test,y_pred):.2f}\")\n",
    "print(f\"Chosen beta: {beta}\")\n",
    "print(f\"F-beta: {fbeta_score(y_test,y_pred,beta=beta):.2f}\")\n",
    "print(f\"AUC under ROC: {roc_auc_score(y_test,y_pred):.2f}\")"
   ]
  },
  {
   "cell_type": "markdown",
   "metadata": {},
   "source": [
    "#### Comparing performance of the three ensemble models\n",
    "\n",
    "The Boosting model outperformed Bagging model in all the given metrics. This could be due to a limitation of Bagging in that every example has equal chance to be sampled, regardless of the difficulty of classifying the example. Boosting, on the other hand, will increase the weight of example that is wrongly classified, so that it is more likely to be chosen again for subsequent models so as to focus on to the more difficult examples.  \n",
    "\n",
    "Stacking also performed better than Bagging in all the given metrics. This could be due to another limitation of Bagging in that it assigns equal weight to all models, regardless of accuracy. Stacking, on the other hand, uses another machine learning model, Logistic Regression in this case, to combine the results of models with higher weightage for the more accurate model. \n",
    "\n",
    "Boosting performed better than Stacking as well. This could be due to the Boosting model iteratively adjusting the training dataset to account for the strengths and weaknesses of the current essemble model when fitting the next base model. Conversely, Stacking tries to adapt the weightage of the respective models to improve the performance.  "
   ]
  },
  {
   "cell_type": "markdown",
   "metadata": {},
   "source": [
    "### Develop Ensemble Models with Feature Engineering"
   ]
  },
  {
   "cell_type": "markdown",
   "metadata": {},
   "source": [
    "getting external data<br/>\n",
    "https://www.irs.gov/pub/irs-soi/16zpallagi.csv<br/>\n",
    "more details:<br/>\n",
    "https://www.irs.gov/statistics/soi-tax-stats-individual-income-tax-statistics-2016-zip-code-data-soi"
   ]
  },
  {
   "cell_type": "code",
   "execution_count": 33,
   "metadata": {},
   "outputs": [],
   "source": [
    "f = open('16zpallagi.csv', 'r')\n",
    "f.readline()\n",
    "count = {}\n",
    "for l in f.readlines():\n",
    "    s = l.split(',')\n",
    "    if s[2] == '0':\n",
    "        count[s[1], int(s[3])] = int(s[4])\n",
    "    else:\n",
    "        count['%05d' % int(s[2]), int(s[3])] = int(s[4])\n",
    "agg_count = {}\n",
    "for k, v in count.items():\n",
    "    if k[0][:3] not in agg_count:\n",
    "        agg_count[k[0][:3]] = [0] * 7\n",
    "    agg_count[k[0][:3]][k[1]] += v\n",
    "f.close()"
   ]
  },
  {
   "cell_type": "code",
   "execution_count": 34,
   "metadata": {},
   "outputs": [],
   "source": [
    "# Assume incomes bracketed are [12500, 37500, 62500, 87500, 150000, 400000]\n",
    "# 1 = $1 under $25,000\n",
    "# 2 = $25,000 under $50,000\n",
    "# 3 = $50,000 under $75,000\n",
    "# 4 = $75,000 under $100,000\n",
    "# 5 = $100,000 under $200,000\n",
    "# 6 = $200,000 or more\n",
    "\n",
    "bracket_income = [0, 12500, 37500, 62500, 87500, 150000, 400000]\n",
    "estimated_zip_income = {}\n",
    "for k, v in agg_count.items():\n",
    "    sumn, sumd = 0, 0\n",
    "    for i in range(1, 7):\n",
    "        sumn += bracket_income[i] * v[i]\n",
    "        sumd += v[i]\n",
    "    estimated_zip_income[k] = sumn / sumd"
   ]
  },
  {
   "cell_type": "code",
   "execution_count": 35,
   "metadata": {},
   "outputs": [],
   "source": [
    "approved.insert(4, 'estimated_income', approved[['zip3', 'state']].apply(lambda x: estimated_zip_income[x[0]] if x[0] in estimated_zip_income else estimated_zip_income[x[1]] if x[1] in estimated_zip_income else 0, axis = 1))\n",
    "rejected.insert(4, 'estimated_income', rejected[['zip3', 'state']].apply(lambda x: estimated_zip_income[x[0]] if x[0] in estimated_zip_income else estimated_zip_income[x[1]] if x[1] in estimated_zip_income else 0, axis = 1))\n",
    "data_pos = approved.drop(['zip3', 'state'], axis = 1).values\n",
    "data_neg = rejected.drop(['zip3', 'state'], axis = 1).values"
   ]
  },
  {
   "cell_type": "code",
   "execution_count": 36,
   "metadata": {},
   "outputs": [],
   "source": [
    "#combine both approved and rejected data\n",
    "data = np.concatenate((data_pos, data_neg), axis=0)\n",
    "\n",
    "#split dataset into train and test set\n",
    "X_train, X_test, y_train, y_test = train_test_split(data[:,:-1], data[:,-1], stratify=data[:,-1], random_state=88)\n",
    "\n",
    "# scale loan amount and employment length\n",
    "mms = MinMaxScaler()\n",
    "X_train[:,[0,2,3]] = mms.fit_transform(X_train[:,[0,2,3]])\n",
    "X_test[:,[0,2,3]] = mms.transform(X_test[:,[0,2,3]])"
   ]
  },
  {
   "cell_type": "markdown",
   "metadata": {},
   "source": [
    "#### Bagging Model"
   ]
  },
  {
   "cell_type": "code",
   "execution_count": 37,
   "metadata": {},
   "outputs": [
    {
     "name": "stdout",
     "output_type": "stream",
     "text": [
      "--------------------------------------------------\n",
      "Bagging Model\n",
      "--------------------------------------------------\n",
      "Base Classifier: DecisionTreeClassifier(max_depth=2)\n",
      "Parameter Settings: {'max_samples': 0.1, 'n_estimators': 15}\n",
      "Select threshold of 0.68 for bagging model to maximise F-beta score\n",
      "Precision: 0.71\n",
      "Recall: 0.47\n",
      "Chosen beta: 0.5\n",
      "F-beta: 0.65\n",
      "AUC under ROC: 0.73\n"
     ]
    },
    {
     "data": {
      "image/png": "[encoded data removed]",
      "text/plain": [
       "<Figure size 432x288 with 1 Axes>"
      ]
     },
     "metadata": {
      "needs_background": "light"
     },
     "output_type": "display_data"
    }
   ],
   "source": [
    "# Bagging Model\n",
    "\n",
    "from sklearn.ensemble import BaggingClassifier\n",
    "from sklearn.tree import DecisionTreeClassifier\n",
    "from sklearn.model_selection import GridSearchCV\n",
    "\n",
    "# perform GridSearchCV to optimise bagging model and perform prediction\n",
    "parameters = {'max_samples': [0.1,0.3,0.5],\n",
    "             'n_estimators': [5,10,15]}\n",
    "bag = GridSearchCV(BaggingClassifier(DecisionTreeClassifier(max_depth=2)), param_grid=parameters, n_jobs=-1, scoring=fbeta_scorer)\n",
    "bag.fit(X_train, y_train)\n",
    "y_pred_proba = bag.predict_proba(X_test)\n",
    "\n",
    "# compute F-beta score as threshold varies\n",
    "fbeta = []\n",
    "for i in threshold:\n",
    "    y_pred = np.where(y_pred_proba[:,1]>i, 1, 0)\n",
    "    score = fbeta_score(y_test,y_pred,beta=beta)\n",
    "    if i==threshold[0]:\n",
    "        thresholdSelected = i\n",
    "    elif score>max(fbeta):\n",
    "        thresholdSelected = i\n",
    "    fbeta.append(score)\n",
    "\n",
    "# plot change in F-beta score as threshold varies\n",
    "plt.plot(threshold,fbeta)\n",
    "plt.ylabel('F-Beta Score')\n",
    "plt.xlabel('Threshold')\n",
    "\n",
    "# compute scores for threshold selected\n",
    "y_pred = np.where(y_pred_proba[:,1]>thresholdSelected, 1, 0)\n",
    "print(\"-\"*50)\n",
    "print(\"Bagging Model\")\n",
    "print(\"-\"*50)\n",
    "print(f\"Base Classifier: DecisionTreeClassifier(max_depth=2)\")\n",
    "print(f\"Parameter Settings: {bag.best_params_}\") #depth 3 and 0.3\n",
    "print(f\"Select threshold of {thresholdSelected} for bagging model to maximise F-beta score\")\n",
    "print(f\"Precision: {precision_score(y_test,y_pred):.2f}\")\n",
    "print(f\"Recall: {recall_score(y_test,y_pred):.2f}\")\n",
    "print(f\"Chosen beta: {beta}\")\n",
    "print(f\"F-beta: {fbeta_score(y_test,y_pred,beta=beta):.2f}\")\n",
    "print(f\"AUC under ROC: {roc_auc_score(y_test,y_pred):.2f}\")"
   ]
  },
  {
   "cell_type": "markdown",
   "metadata": {},
   "source": [
    "#### Boosting Model"
   ]
  },
  {
   "cell_type": "code",
   "execution_count": 38,
   "metadata": {
    "scrolled": false
   },
   "outputs": [
    {
     "name": "stdout",
     "output_type": "stream",
     "text": [
      "--------------------------------------------------\n",
      "Boosting Model\n",
      "--------------------------------------------------\n",
      "Base Classifier: DecisionTreeClassifier(max_depth=2)\n",
      "Parameter Settings: {'algorithm': 'SAMME.R', 'learning_rate': 1, 'n_estimators': 15}\n",
      "Select threshold of 0.51 for boosting model to maximise F-beta score\n",
      "Precision: 0.78\n",
      "Recall: 0.59\n",
      "Chosen beta: 0.5\n",
      "F-beta: 0.73\n",
      "AUC under ROC: 0.79\n"
     ]
    },
    {
     "data": {
      "image/png": "[encoded data removed]",
      "text/plain": [
       "<Figure size 432x288 with 1 Axes>"
      ]
     },
     "metadata": {
      "needs_background": "light"
     },
     "output_type": "display_data"
    }
   ],
   "source": [
    "# Boosting Model\n",
    "\n",
    "from sklearn.ensemble import AdaBoostClassifier\n",
    "from sklearn.tree import DecisionTreeClassifier\n",
    "from sklearn.model_selection import GridSearchCV\n",
    "\n",
    "# perform GridSearchCV to optimise boosting model and perform prediction\n",
    "parameters = {'algorithm': ['SAMME', 'SAMME.R'],\n",
    "             'n_estimators': [5,10,15],\n",
    "             'learning_rate': [0.01,0.1,1]}\n",
    "ada = GridSearchCV(AdaBoostClassifier(DecisionTreeClassifier(max_depth=2)), param_grid=parameters, n_jobs=-1, scoring=fbeta_scorer)\n",
    "ada.fit(X_train, y_train)\n",
    "y_pred_proba = ada.predict_proba(X_test)\n",
    "\n",
    "# compute F-beta score as threshold varies\n",
    "fbeta = []\n",
    "for i in threshold:\n",
    "    y_pred = np.where(y_pred_proba[:,1]>i, 1, 0)\n",
    "    score = fbeta_score(y_test,y_pred,beta=0.5)\n",
    "    if i==threshold[0]:\n",
    "        thresholdSelected = i\n",
    "    elif score>max(fbeta):\n",
    "        thresholdSelected = i\n",
    "    fbeta.append(score)\n",
    "\n",
    "# plot change in F-beta score as threshold varies\n",
    "plt.plot(threshold,fbeta)\n",
    "plt.ylabel('F-Beta Score')\n",
    "plt.xlabel('Threshold')\n",
    "\n",
    "# compute scores for threshold selected\n",
    "y_pred = np.where(y_pred_proba[:,1]>thresholdSelected, 1, 0)\n",
    "print(\"-\"*50)\n",
    "print(\"Boosting Model\")\n",
    "print(\"-\"*50)\n",
    "print(f\"Base Classifier: DecisionTreeClassifier(max_depth=2)\")\n",
    "print(f\"Parameter Settings: {ada.best_params_}\") \n",
    "print(f\"Select threshold of {thresholdSelected} for boosting model to maximise F-beta score\")\n",
    "print(f\"Precision: {precision_score(y_test,y_pred):.2f}\")\n",
    "print(f\"Recall: {recall_score(y_test,y_pred):.2f}\")\n",
    "print(f\"Chosen beta: {beta}\")\n",
    "print(f\"F-beta: {fbeta_score(y_test,y_pred,beta=beta):.2f}\")\n",
    "print(f\"AUC under ROC: {roc_auc_score(y_test,y_pred):.2f}\")"
   ]
  },
  {
   "cell_type": "markdown",
   "metadata": {},
   "source": [
    "#### Stacking Model"
   ]
  },
  {
   "cell_type": "code",
   "execution_count": 39,
   "metadata": {},
   "outputs": [
    {
     "name": "stdout",
     "output_type": "stream",
     "text": [
      "--------------------------------------------------\n",
      "Stacking Model\n",
      "--------------------------------------------------\n",
      "Base Classifiers and Parameter Settings: [('dt', DecisionTreeClassifier(max_depth=2)), ('nb', GaussianNB()), ('lr', LogisticRegression(C=0.001))]\n",
      "Select threshold of 0.15 for stacking model to maximise F-beta score\n",
      "Precision: 0.69\n",
      "Recall: 0.53\n",
      "Chosen beta: 0.5\n",
      "F-beta: 0.66\n",
      "AUC under ROC: 0.76\n"
     ]
    },
    {
     "data": {
      "image/png": "[encoded data removed]",
      "text/plain": [
       "<Figure size 432x288 with 1 Axes>"
      ]
     },
     "metadata": {
      "needs_background": "light"
     },
     "output_type": "display_data"
    }
   ],
   "source": [
    "# Stacking Model\n",
    "from sklearn.ensemble import StackingClassifier\n",
    "\n",
    "# Create stacking model using Decision Tree and Naive Bayes classifiers\n",
    "estimators = [('dt',DecisionTreeClassifier(max_depth=2)), ('nb', GaussianNB()), ('lr', LogisticRegression(C=0.001))]\n",
    "stack = StackingClassifier(estimators=estimators, n_jobs=-1)\n",
    "stack.fit(X_train, y_train)\n",
    "y_pred_proba = stack.predict_proba(X_test)\n",
    "    \n",
    "# compute F-beta score as threshold varies\n",
    "fbeta = []\n",
    "for i in threshold:\n",
    "    y_pred = np.where(y_pred_proba[:,1]>i, 1, 0)\n",
    "    score = fbeta_score(y_test,y_pred,beta=beta)\n",
    "    if i==threshold[0]:\n",
    "        thresholdSelected = i\n",
    "    elif score>max(fbeta):\n",
    "        thresholdSelected = i\n",
    "    fbeta.append(score)\n",
    "\n",
    "# plot change in F-beta score as threshold varies\n",
    "plt.plot(threshold,fbeta)\n",
    "plt.ylabel('F-Beta Score')\n",
    "plt.xlabel('Threshold')\n",
    "\n",
    "# compute scores for threshold selected\n",
    "y_pred = np.where(y_pred_proba[:,1]>thresholdSelected, 1, 0)\n",
    "print(\"-\"*50)\n",
    "print(\"Stacking Model\")\n",
    "print(\"-\"*50)\n",
    "print(f\"Base Classifiers and Parameter Settings: {estimators}\")\n",
    "print(f\"Select threshold of {thresholdSelected} for stacking model to maximise F-beta score\")\n",
    "print(f\"Precision: {precision_score(y_test,y_pred):.2f}\")\n",
    "print(f\"Recall: {recall_score(y_test,y_pred):.2f}\")\n",
    "print(f\"Chosen beta: {beta}\")\n",
    "print(f\"F-beta: {fbeta_score(y_test,y_pred,beta=beta):.2f}\")\n",
    "print(f\"AUC under ROC: {roc_auc_score(y_test,y_pred):.2f}\")"
   ]
  },
  {
   "cell_type": "markdown",
   "metadata": {},
   "source": [
    "#### Comparing performance of the three ensemble models\n",
    "\n",
    "While there is a very slight improvement in F-beta score for bagging model, there is no significant improvement observed in the overall results for the ensemble models after adding new information in the form of estimated income. This could be attributed to the following possible reasons. \n",
    "\n",
    "As ensemble models already have improved performance, further improvement from feature engineering might not be as significant. \n",
    "\n",
    "The estimated income is based on data aggregated at county level, which might not be useful considering the high variance of income brackets across the towns for each country and each town might have further variance. As seen below, the distribution of estimated income for both approved and rejected cases are rather similar as well and might limit the usefulness as a feature.   \n"
   ]
  },
  {
   "cell_type": "code",
   "execution_count": 40,
   "metadata": {},
   "outputs": [
    {
     "data": {
      "image/png": "[encoded data removed]",
      "text/plain": [
       "<Figure size 432x288 with 1 Axes>"
      ]
     },
     "metadata": {
      "needs_background": "light"
     },
     "output_type": "display_data"
    }
   ],
   "source": [
    "plt.hist(approved['estimated_income'], bins=20, label='Approved', alpha=0.5)\n",
    "plt.hist(rejected['estimated_income'], bins=20, label='Rejected', alpha=0.5)\n",
    "plt.legend()\n",
    "plt.show()"
   ]
  },
  {
   "cell_type": "code",
   "execution_count": 41,
   "metadata": {},
   "outputs": [
    {
     "data": {
      "image/png": "[encoded data removed]",
      "text/plain": [
       "<Figure size 432x288 with 1 Axes>"
      ]
     },
     "metadata": {
      "needs_background": "light"
     },
     "output_type": "display_data"
    }
   ],
   "source": [
    "import seaborn as sns\n",
    "\n",
    "sns.boxplot(data=[rejected['estimated_income'],approved['estimated_income']])\n",
    "plt.xticks(ticks=[0,1],labels=['Rejected','Approved'])\n",
    "plt.show()"
   ]
  }
 ],
 "metadata": {
  "kernelspec": {
   "display_name": "Python 3",
   "language": "python",
   "name": "python3"
  },
  "language_info": {
   "codemirror_mode": {
    "name": "ipython",
    "version": 3
   },
   "file_extension": ".py",
   "mimetype": "text/x-python",
   "name": "python",
   "nbconvert_exporter": "python",
   "pygments_lexer": "ipython3",
   "version": "3.7.4"
  },
  "toc": {
   "base_numbering": 1,
   "nav_menu": {},
   "number_sections": true,
   "sideBar": true,
   "skip_h1_title": false,
   "title_cell": "Table of Contents",
   "title_sidebar": "Contents",
   "toc_cell": false,
   "toc_position": {},
   "toc_section_display": true,
   "toc_window_display": false
  },
  "varInspector": {
   "cols": {
    "lenName": 16,
    "lenType": 16,
    "lenVar": 40
   },
   "kernels_config": {
    "python": {
     "delete_cmd_postfix": "",
     "delete_cmd_prefix": "del ",
     "library": "var_list.py",
     "varRefreshCmd": "print(var_dic_list())"
    },
    "r": {
     "delete_cmd_postfix": ") ",
     "delete_cmd_prefix": "rm(",
     "library": "var_list.r",
     "varRefreshCmd": "cat(var_dic_list()) "
    }
   },
   "types_to_exclude": [
    "module",
    "function",
    "builtin_function_or_method",
    "instance",
    "_Feature"
   ],
   "window_display": false
  }
 },
 "nbformat": 4,
 "nbformat_minor": 2
}
